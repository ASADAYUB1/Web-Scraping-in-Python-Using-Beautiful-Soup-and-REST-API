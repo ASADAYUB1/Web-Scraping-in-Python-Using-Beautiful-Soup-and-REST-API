{
 "cells": [
  {
   "cell_type": "markdown",
   "id": "b3cfdc5f",
   "metadata": {},
   "source": [
    "## Introduction to Web Scraping and REST APIs"
   ]
  },
  {
   "cell_type": "markdown",
   "id": "f4480117",
   "metadata": {},
   "source": [
    "Here in this notebook I will do web Scraping for the extraction and parsing data from the websites in an automated fashion using the python. Its a useful technique for creating datasets for research and learning. While web scraping often involves prasing and processing HTML documents, some platforms also offer REST APIs to retrive information in a machine readable format like JSON. Here we will use web scraping and REST APIs to create a real world dataset.\n",
    "We will follow these steps\n",
    "* Downloading web pages using the requests library\n",
    "* Inspecting the HTML source code of a web page\n",
    "* Parsing parts of a website using Beautiful Soup\n",
    "* Writing parsed information into CSV files\n",
    "* Using a REST API to retrieve data as JSON\n",
    "\n"
   ]
  },
  {
   "cell_type": "markdown",
   "id": "62ddf69e",
   "metadata": {},
   "source": [
    "QUESTION: \n",
    "\n",
    "Write a Python function that creates a CSV file (comma-separated values) containing details about the 25 top GitHub repositories for any given topic. You can view the top repositories for the topic machine-learning on this page: https://github.com/topics/machine-learning. The output CSV should contain these details: repository name, owner's username, no. of stars, repository URL."
   ]
  },
  {
   "cell_type": "code",
   "execution_count": 1,
   "id": "f76f2411",
   "metadata": {},
   "outputs": [],
   "source": [
    "# Install the Library \n",
    "!pip install requests --upgrade --quiet"
   ]
  },
  {
   "cell_type": "code",
   "execution_count": 2,
   "id": "7cd28f6e",
   "metadata": {},
   "outputs": [],
   "source": [
    "# Import the Library \n",
    "import requests "
   ]
  },
  {
   "cell_type": "markdown",
   "id": "4169b2b6",
   "metadata": {},
   "source": [
    "`requests.get` function is used to download a web page."
   ]
  },
  {
   "cell_type": "code",
   "execution_count": 3,
   "id": "3958b569",
   "metadata": {},
   "outputs": [],
   "source": [
    "# topic_url = 'https://github.com/topics/machine-learning' It's Giving an 404 Error"
   ]
  },
  {
   "cell_type": "code",
   "execution_count": 4,
   "id": "e99ef9ed",
   "metadata": {},
   "outputs": [
    {
     "data": {
      "text/plain": [
       "<Response [200]>"
      ]
     },
     "execution_count": 4,
     "metadata": {},
     "output_type": "execute_result"
    }
   ],
   "source": [
    "response = requests.get('https://github.com/topics/machine-learning')\n",
    "response"
   ]
  },
  {
   "cell_type": "code",
   "execution_count": 5,
   "id": "68d2cbb4",
   "metadata": {},
   "outputs": [
    {
     "data": {
      "text/plain": [
       "requests.models.Response"
      ]
     },
     "execution_count": 5,
     "metadata": {},
     "output_type": "execute_result"
    }
   ],
   "source": [
    "type(response)"
   ]
  },
  {
   "cell_type": "markdown",
   "id": "64fdbc0d",
   "metadata": {},
   "source": [
    "The status_code function is used to check that whether the request to get the contents of pages is sucessful or not. If the status code value is between 200 to 299 is means the request is sucessful. "
   ]
  },
  {
   "cell_type": "code",
   "execution_count": 6,
   "id": "1ba78224",
   "metadata": {},
   "outputs": [
    {
     "data": {
      "text/plain": [
       "200"
      ]
     },
     "execution_count": 6,
     "metadata": {},
     "output_type": "execute_result"
    }
   ],
   "source": [
    "response.status_code"
   ]
  },
  {
   "cell_type": "markdown",
   "id": "345a938a",
   "metadata": {},
   "source": [
    "The content of the Web Page can be get by using the `.text property` of the `response`."
   ]
  },
  {
   "cell_type": "code",
   "execution_count": 7,
   "id": "328147eb",
   "metadata": {},
   "outputs": [],
   "source": [
    "page_contents = response.text"
   ]
  },
  {
   "cell_type": "code",
   "execution_count": 8,
   "id": "96bbc007",
   "metadata": {},
   "outputs": [
    {
     "data": {
      "text/plain": [
       "483760"
      ]
     },
     "execution_count": 8,
     "metadata": {},
     "output_type": "execute_result"
    }
   ],
   "source": [
    "len(page_contents)"
   ]
  },
  {
   "cell_type": "markdown",
   "id": "4c789668",
   "metadata": {},
   "source": [
    "The page contains alot of characters! Let view the first 500 characters of the web page."
   ]
  },
  {
   "cell_type": "code",
   "execution_count": 9,
   "id": "5ac096ef",
   "metadata": {},
   "outputs": [
    {
     "data": {
      "text/plain": [
       "'\\n\\n<!DOCTYPE html>\\n<html\\n  lang=\"en\"\\n  \\n  data-color-mode=\"auto\" data-light-theme=\"light\" data-dark-theme=\"dark\"\\n  data-a11y-animated-images=\"system\" data-a11y-link-underlines=\"true\"\\n  >\\n\\n\\n\\n\\n  <head>\\n    <meta charset=\"utf-8\">\\n  <link rel=\"dns-prefetch\" href=\"https://github.githubassets.com\">\\n  <link rel=\"dns-prefetch\" href=\"https://avatars.githubusercontent.com\">\\n  <link rel=\"dns-prefetch\" href=\"https://github-cloud.s3.amazonaws.com\">\\n  <link rel=\"dns-prefetch\" href=\"https://user-images.githubus'"
      ]
     },
     "execution_count": 9,
     "metadata": {},
     "output_type": "execute_result"
    }
   ],
   "source": [
    "page_contents[:500]"
   ]
  },
  {
   "cell_type": "markdown",
   "id": "e0614f18",
   "metadata": {},
   "source": [
    "The above shown code is theh source code of the web page. It written in a HTML language. It defines the content and structure of the web page. "
   ]
  },
  {
   "cell_type": "markdown",
   "id": "a8dffe5f",
   "metadata": {},
   "source": [
    "Now let save the contents to a file with `.html` extension"
   ]
  },
  {
   "cell_type": "code",
   "execution_count": 10,
   "id": "3cb2e568",
   "metadata": {},
   "outputs": [],
   "source": [
    "with open ('machine-learning-topics.html', 'w', encoding=\"utf-8\") as file:\n",
    "    file.write(page_contents)"
   ]
  },
  {
   "cell_type": "markdown",
   "id": "b0ae39a1",
   "metadata": {},
   "source": [
    "#### Now lets try one more topic to download the web page using the requests and save it as html file."
   ]
  },
  {
   "cell_type": "code",
   "execution_count": 11,
   "id": "65f3984e",
   "metadata": {},
   "outputs": [
    {
     "data": {
      "text/plain": [
       "<Response [200]>"
      ]
     },
     "execution_count": 11,
     "metadata": {},
     "output_type": "execute_result"
    }
   ],
   "source": [
    "response_1 = requests.get(' https://github.com/topics/data-analysis')\n",
    "response_1"
   ]
  },
  {
   "cell_type": "code",
   "execution_count": 12,
   "id": "b983fec7",
   "metadata": {},
   "outputs": [
    {
     "data": {
      "text/plain": [
       "requests.models.Response"
      ]
     },
     "execution_count": 12,
     "metadata": {},
     "output_type": "execute_result"
    }
   ],
   "source": [
    "type(response_1)"
   ]
  },
  {
   "cell_type": "code",
   "execution_count": 13,
   "id": "b3f20596",
   "metadata": {},
   "outputs": [
    {
     "data": {
      "text/plain": [
       "200"
      ]
     },
     "execution_count": 13,
     "metadata": {},
     "output_type": "execute_result"
    }
   ],
   "source": [
    "response_1.status_code"
   ]
  },
  {
   "cell_type": "code",
   "execution_count": 14,
   "id": "3064b787",
   "metadata": {},
   "outputs": [],
   "source": [
    "page_contents_1 = response_1.text"
   ]
  },
  {
   "cell_type": "code",
   "execution_count": 15,
   "id": "9a83e234",
   "metadata": {},
   "outputs": [
    {
     "data": {
      "text/plain": [
       "483243"
      ]
     },
     "execution_count": 15,
     "metadata": {},
     "output_type": "execute_result"
    }
   ],
   "source": [
    "len(page_contents_1)"
   ]
  },
  {
   "cell_type": "code",
   "execution_count": 16,
   "id": "e532eed0",
   "metadata": {},
   "outputs": [
    {
     "data": {
      "text/plain": [
       "'\\n\\n<!DOCTYPE html>\\n<html\\n  lang=\"en\"\\n  \\n  data-color-mode=\"auto\" data-light-theme=\"light\" data-dark-theme=\"dark\"\\n  data-a11y-animated-images=\"system\" data-a11y-link-underlines=\"true\"\\n  >\\n\\n\\n\\n\\n  <head>\\n    <meta charset=\"utf-8\">\\n  <link rel=\"dns-prefetch\" href=\"https://github.githubassets.com\">\\n  <link rel=\"dns-prefetch\" href=\"https://avatars.githubusercontent.com\">\\n  <link rel=\"dns-prefetch\" href=\"https://github-cloud.s3.amazonaws.com\">\\n  <link rel=\"dns-prefetch\" href=\"https://user-images.githubusercontent.com/\">\\n  <link rel=\"preconnect\" href=\"https://github.githubassets.com\" crossorigin>\\n  <link rel=\"preconnect\" href=\"https://avatars.githubusercontent.com\">\\n\\n  \\n\\n  <link crossorigin=\"anonymous\" media=\"all\" rel=\"stylesheet\" href=\"https://github.githubassets.com/assets/light-38f1bf52eeeb.css\" '"
      ]
     },
     "execution_count": 16,
     "metadata": {},
     "output_type": "execute_result"
    }
   ],
   "source": [
    "page_contents_1[:800]"
   ]
  },
  {
   "cell_type": "code",
   "execution_count": 17,
   "id": "11f246ce",
   "metadata": {},
   "outputs": [],
   "source": [
    "with open ('data-analysis.html','w', encoding = \"utf-8\") as file:\n",
    "    file.write(page_contents_1)"
   ]
  },
  {
   "cell_type": "code",
   "execution_count": null,
   "id": "dde52203",
   "metadata": {},
   "outputs": [],
   "source": []
  },
  {
   "cell_type": "markdown",
   "id": "dcaab4e8",
   "metadata": {},
   "source": [
    "## Inspecting the HTML source code of a web page"
   ]
  },
  {
   "cell_type": "markdown",
   "id": "1e3a9f7b",
   "metadata": {},
   "source": [
    "As We know that web pages are written in a language called HTML (Hyper Text Markup Language). HTML is a fairly simple laguage comprrised of tags (also called nodes or elements). An HTML tag has three parts:\n",
    "* Name (html, head,body, div etc)\n",
    "* Attributes (href, target, class, id, etc)\n",
    "* Children (< div > Some Content < div >)"
   ]
  },
  {
   "cell_type": "markdown",
   "id": "8e32d5b5",
   "metadata": {},
   "source": [
    "### Inside an HTML Document\n",
    "\n",
    "Here is a sample HTML document that uses many commonly used tags:\n"
   ]
  },
  {
   "cell_type": "markdown",
   "id": "d6b50b54",
   "metadata": {},
   "source": [
    "<html>\n",
    "  <head>\n",
    "    <title>All About Python</title>\n",
    "  </head>\n",
    "  <body>\n",
    "    <div style=\"width: 640px; margin: 40px auto\">\n",
    "      <h1 style=\"text-align:center;\">Python - A Programming Language</h1>\n",
    "      <img src=\"https://www.python.org/static/community_logos/python-logo-master-v3-TM.png\" alt=\"python-logo\" style=\"width:240px;margin:0 auto;display:block;\">\n",
    "      <div>\n",
    "        <h2>About Python</h2>\n",
    "        <p>\n",
    "          Python is an <span style=\"font-style: italic\">interpreted, high-level and general-purpose</span> programming language. Python's design philosophy emphasizes code readability with its notable use of significant indentation. Its language constructs and object-oriented approach aim to help programmers write clear, logical code for small and large-scale projects. Visit the <a href=\"https://docs.python.org/3/\">official documentation</a> to learn more.\n",
    "        </p>\n",
    "      </div>\n",
    "      <div>\n",
    "        <h2>Some Python Libraries</h2>\n",
    "        <ul id=\"libraries\">\n",
    "          <li>Numpy</li>\n",
    "          <li>Pandas</li>\n",
    "          <li>PyTorch</li>\n",
    "          <li>Scikit Learn</li>\n",
    "        </ul>\n",
    "      </div>\n",
    "      <div>\n",
    "        <h2>Recent Python Versions</h2>\n",
    "        <table id=\"versions-table\">\n",
    "          <tr>\n",
    "            <th class=\"bordered-table\">Version</th>\n",
    "            <th class=\"bordered-table\">Released on</th>\n",
    "          </tr>\n",
    "          <tr>\n",
    "            <td class=\"bordered-table\">Python 3.8</td>\n",
    "            <td class=\"bordered-table\">October 2019</td>\n",
    "          </tr>\n",
    "          <tr>\n",
    "            <td class=\"bordered-table\">Python 3.7</td>\n",
    "            <td class=\"bordered-table\">June 2018</td>\n",
    "          </tr>\n",
    "        </table>\n",
    "          <style>\n",
    "              .bordered-table { \n",
    "                  border: 1px solid black; padding: 8px;\n",
    "              }\n",
    "          </style>\n",
    "      </div>\n",
    "    </div>\n",
    "  </body>\n",
    "</html>"
   ]
  },
  {
   "cell_type": "markdown",
   "id": "046e0872",
   "metadata": {},
   "source": [
    "#### Some Common Tags and Attributes \n",
    "\n",
    "Some of the commonly used HTML tags are:\n",
    "\n",
    "* `html`\n",
    "* `head`\n",
    "* `title`\n",
    "* `body`\n",
    "* `div`\n",
    "* `span`\n",
    "* `h1` to `h6`\n",
    "* `p`\n",
    "* `img`\n",
    "* `ul`,`ol` and `li`\n",
    "* `table`, `tr`, `th` and `td`\n",
    "* `style`\n",
    "\n",
    "Each tag supports several attributes. Following are some common attributes used to modify the behavior of tags:\n",
    "\n",
    "* `id`\n",
    "* `style`\n",
    "* `class`\n",
    "* `href`\n",
    "* `src`\n"
   ]
  },
  {
   "cell_type": "markdown",
   "id": "d66bd3c3",
   "metadata": {},
   "source": [
    "#### Inspecting HTML in the Browser"
   ]
  },
  {
   "cell_type": "markdown",
   "id": "56fe01d7",
   "metadata": {},
   "source": [
    "we can view the the source code of any webpage right wihin our broswer by right clicking anywhere on a page and selecting the \"Inspect\" option. It opens the \"Developer Tools\" pane, where the source code can be seen as tree. "
   ]
  },
  {
   "attachments": {
    "image.png": {
     "image/png": "[encoded data removed]"
    }
   },
   "cell_type": "markdown",
   "id": "a81a306b",
   "metadata": {},
   "source": [
    "![image.png](attachment:image.png)"
   ]
  },
  {
   "cell_type": "code",
   "execution_count": null,
   "id": "3f5bcbe4",
   "metadata": {},
   "outputs": [],
   "source": []
  },
  {
   "cell_type": "markdown",
   "id": "3712aefe",
   "metadata": {},
   "source": [
    "### Extracting information from HTML using Beautiful Soup "
   ]
  },
  {
   "cell_type": "markdown",
   "id": "9368df6a",
   "metadata": {},
   "source": [
    "To extract the information from the HTML source code of a webpage programmatically, the BeautifulSoup library is used. The `BeatifulSoup` class is import from `bs4` module."
   ]
  },
  {
   "cell_type": "code",
   "execution_count": 18,
   "id": "6d285e0d",
   "metadata": {},
   "outputs": [],
   "source": [
    "! pip install beautifulsoup4 --upgrade --quiet"
   ]
  },
  {
   "cell_type": "code",
   "execution_count": 19,
   "id": "3062e8ca",
   "metadata": {},
   "outputs": [],
   "source": [
    "from bs4 import BeautifulSoup"
   ]
  },
  {
   "cell_type": "markdown",
   "id": "4977dfc5",
   "metadata": {},
   "source": [
    "Here we read the contents of the file `machine-learning.html` and create a `BeautifulSoup` object to parse the content. "
   ]
  },
  {
   "cell_type": "code",
   "execution_count": 20,
   "id": "d7f20c3c",
   "metadata": {
    "scrolled": true
   },
   "outputs": [],
   "source": [
    "# with open('machine-learning-topics.html', 'r') as file:\n",
    "#     html_source = file.read()    Giving an Error "
   ]
  },
  {
   "cell_type": "code",
   "execution_count": 21,
   "id": "de9507db",
   "metadata": {},
   "outputs": [],
   "source": [
    "with open('machine-learning-topics.html', 'r', encoding = \"utf-8\") as file:\n",
    "    html_source = file.read()"
   ]
  },
  {
   "cell_type": "code",
   "execution_count": 22,
   "id": "e0af8536",
   "metadata": {},
   "outputs": [
    {
     "data": {
      "text/plain": [
       "'\\n\\n<!DOCTYPE html>\\n<html\\n  lang=\"en\"\\n  \\n  data-color-mode=\"auto\" data-light-theme=\"light\" data-dark-theme=\"dark\"\\n  data-a11y-animated-images=\"system\" data-a11y-link-underlines=\"true\"\\n  >\\n\\n\\n\\n\\n  <head>\\n    <meta charset=\"utf-8\">\\n  <link rel=\"dns-prefetch\" href=\"https://github.githubassets.com\">\\n  <link rel=\"dns-prefetch\" href=\"https://avatars.githubusercontent.com\">\\n  <link rel=\"dns-prefetch\" href=\"https://github-cloud.s3.amazonaws.com\">\\n  <link rel=\"dns-prefetch\" href=\"https://user-images.githubusercontent.com/\">\\n  <link rel=\"preconnect\" href=\"https://github.githubassets.com\" crossorigin>\\n  <link rel=\"preconnect\" href=\"https://avatars.githubusercontent.com\">\\n\\n  \\n\\n  <link crossorigin=\"anonymous\" media=\"all\" rel=\"stylesheet\" href=\"https://github.githubassets.com/assets/light-38f1bf52eeeb.css\" /><link crossorigin=\"anonymous\" media=\"all\" rel=\"stylesheet\" href=\"https://github.githubassets.com/assets/dark-56010aa53a8f.css\" /><link data-color-theme=\"dark_dimmed\" crossorigin=\"anonymous\" media=\"a'"
      ]
     },
     "execution_count": 22,
     "metadata": {},
     "output_type": "execute_result"
    }
   ],
   "source": [
    "html_source [:1000]"
   ]
  },
  {
   "cell_type": "code",
   "execution_count": 23,
   "id": "012f3e7a",
   "metadata": {},
   "outputs": [],
   "source": [
    "doc = BeautifulSoup(html_source, 'html.parser')"
   ]
  },
  {
   "cell_type": "code",
   "execution_count": 24,
   "id": "a43bc94e",
   "metadata": {},
   "outputs": [
    {
     "data": {
      "text/plain": [
       "bs4.BeautifulSoup"
      ]
     },
     "execution_count": 24,
     "metadata": {},
     "output_type": "execute_result"
    }
   ],
   "source": [
    "type(doc)"
   ]
  },
  {
   "cell_type": "markdown",
   "id": "5f3a0f52",
   "metadata": {},
   "source": [
    "#### Accessing a tag\n",
    "\n",
    "what is the title of the page represented by `doc`"
   ]
  },
  {
   "cell_type": "code",
   "execution_count": 25,
   "id": "aee265f3",
   "metadata": {},
   "outputs": [
    {
     "data": {
      "text/plain": [
       "<title>machine-learning · GitHub Topics · GitHub</title>"
      ]
     },
     "execution_count": 25,
     "metadata": {},
     "output_type": "execute_result"
    }
   ],
   "source": [
    "title_tag = doc.title\n",
    "title_tag"
   ]
  },
  {
   "cell_type": "code",
   "execution_count": 26,
   "id": "27c7694f",
   "metadata": {},
   "outputs": [
    {
     "data": {
      "text/plain": [
       "bs4.element.Tag"
      ]
     },
     "execution_count": 26,
     "metadata": {},
     "output_type": "execute_result"
    }
   ],
   "source": [
    "type(title_tag)"
   ]
  },
  {
   "cell_type": "code",
   "execution_count": 27,
   "id": "ae0dc245",
   "metadata": {},
   "outputs": [
    {
     "data": {
      "text/plain": [
       "'machine-learning · GitHub Topics · GitHub'"
      ]
     },
     "execution_count": 27,
     "metadata": {},
     "output_type": "execute_result"
    }
   ],
   "source": [
    "# The text within a tag can be accessed using `.text`\n",
    "title_tag.text"
   ]
  },
  {
   "cell_type": "code",
   "execution_count": 28,
   "id": "a485f7b5",
   "metadata": {},
   "outputs": [],
   "source": [
    "html_tag = doc.html\n",
    "body_tag = doc.body\n",
    "head_tag = doc.head"
   ]
  },
  {
   "cell_type": "code",
   "execution_count": 29,
   "id": "8e11375b",
   "metadata": {
    "scrolled": false
   },
   "outputs": [
    {
     "data": {
      "text/plain": [
       "'\\n\\n\\n\\n\\n\\n\\n\\n\\n\\n\\n\\n\\n\\n\\n\\n\\n\\n\\n\\n\\n\\n\\n\\n\\n\\n\\n\\n\\n\\n\\n\\n\\n\\n\\n\\n\\n\\n\\n\\n\\n\\n\\n\\n\\n\\n\\n\\n\\n\\n\\nmachine-learning · GitHub Topics · GitHub\\n\\n\\n\\n\\n\\n\\n\\n\\n\\n\\n\\n\\n\\n\\n\\n\\n\\n\\n\\n\\n\\n\\n\\n\\n\\n\\n\\n\\n\\n\\n\\n\\n\\n\\n\\n\\n\\n\\n\\n\\n\\n\\n\\n\\n\\n\\n\\n\\n\\n\\n\\n\\n\\n\\n\\n\\n\\n\\n\\n\\n\\n\\n'"
      ]
     },
     "execution_count": 29,
     "metadata": {},
     "output_type": "execute_result"
    }
   ],
   "source": [
    "head_tag.text"
   ]
  },
  {
   "cell_type": "markdown",
   "id": "fc74a46f",
   "metadata": {},
   "source": [
    "If a tag occurs more than once in a document e.g. <a> (which represents links), then doc.a finds the first <a> tag."
   ]
  },
  {
   "cell_type": "code",
   "execution_count": 30,
   "id": "4937eb54",
   "metadata": {},
   "outputs": [
    {
     "data": {
      "text/plain": [
       "<a class=\"px-2 py-4 color-bg-accent-emphasis color-fg-on-emphasis show-on-focus js-skip-to-content\" href=\"#start-of-content\">Skip to content</a>"
      ]
     },
     "execution_count": 30,
     "metadata": {},
     "output_type": "execute_result"
    }
   ],
   "source": [
    "first_link = doc.a\n",
    "first_link "
   ]
  },
  {
   "cell_type": "code",
   "execution_count": 31,
   "id": "b72de5b0",
   "metadata": {},
   "outputs": [
    {
     "data": {
      "text/plain": [
       "'Skip to content'"
      ]
     },
     "execution_count": 31,
     "metadata": {},
     "output_type": "execute_result"
    }
   ],
   "source": [
    "first_link.text"
   ]
  },
  {
   "cell_type": "markdown",
   "id": "23c24da5",
   "metadata": {},
   "source": [
    "Find the first occurrence of each of these tags in doc: div, img, span, p, etc."
   ]
  },
  {
   "cell_type": "code",
   "execution_count": 32,
   "id": "c32039dc",
   "metadata": {
    "scrolled": true
   },
   "outputs": [
    {
     "data": {
      "text/plain": [
       "<img alt=\"transformers\" class=\"d-block width-full\" loading=\"lazy\" src=\"https://repository-images.githubusercontent.com/155220641/a16c4880-a501-11ea-9e8f-646cf611702e\"/>"
      ]
     },
     "execution_count": 32,
     "metadata": {},
     "output_type": "execute_result"
    }
   ],
   "source": [
    "first = doc.img\n",
    "first"
   ]
  },
  {
   "cell_type": "code",
   "execution_count": 33,
   "id": "ba056484",
   "metadata": {},
   "outputs": [
    {
     "data": {
      "text/plain": [
       "''"
      ]
     },
     "execution_count": 33,
     "metadata": {},
     "output_type": "execute_result"
    }
   ],
   "source": [
    "first.text"
   ]
  },
  {
   "cell_type": "code",
   "execution_count": 34,
   "id": "cb9465e2",
   "metadata": {},
   "outputs": [
    {
     "data": {
      "text/plain": [
       "'img'"
      ]
     },
     "execution_count": 34,
     "metadata": {},
     "output_type": "execute_result"
    }
   ],
   "source": [
    "first.name"
   ]
  },
  {
   "cell_type": "code",
   "execution_count": null,
   "id": "5f6fe799",
   "metadata": {},
   "outputs": [],
   "source": []
  },
  {
   "cell_type": "markdown",
   "id": "08488586",
   "metadata": {},
   "source": [
    "#### Finding all tags of the same type \n",
    "To find all the occurrences of a tag, use the find_all method.\n",
    "\n",
    "QUESTION: Find all the link tags on the page. How many links does the page contain?"
   ]
  },
  {
   "cell_type": "code",
   "execution_count": 35,
   "id": "3bd66ea4",
   "metadata": {},
   "outputs": [],
   "source": [
    "all_link_tags = doc.find_all('a')"
   ]
  },
  {
   "cell_type": "code",
   "execution_count": 36,
   "id": "f07737c5",
   "metadata": {},
   "outputs": [
    {
     "data": {
      "text/plain": [
       "442"
      ]
     },
     "execution_count": 36,
     "metadata": {},
     "output_type": "execute_result"
    }
   ],
   "source": [
    "len(all_link_tags)"
   ]
  },
  {
   "cell_type": "code",
   "execution_count": 37,
   "id": "caf9b4d3",
   "metadata": {},
   "outputs": [
    {
     "data": {
      "text/plain": [
       "[<a class=\"px-2 py-4 color-bg-accent-emphasis color-fg-on-emphasis show-on-focus js-skip-to-content\" href=\"#start-of-content\">Skip to content</a>,\n",
       " <a aria-label=\"Homepage\" class=\"mr-lg-3 color-fg-inherit flex-order-2\" data-ga-click=\"(Logged out) Header, go to homepage, icon:logo-wordmark\" href=\"https://github.com/\">\n",
       " <svg aria-hidden=\"true\" class=\"octicon octicon-mark-github\" data-view-component=\"true\" height=\"32\" version=\"1.1\" viewbox=\"0 0 16 16\" width=\"32\">\n",
       " <path d=\"M8 0c4.42 0 8 3.58 8 8a8.013 8.013 0 0 1-5.45 7.59c-.4.08-.55-.17-.55-.38 0-.27.01-1.13.01-2.2 0-.75-.25-1.23-.54-1.48 1.78-.2 3.65-.88 3.65-3.95 0-.88-.31-1.59-.82-2.15.08-.2.36-1.02-.08-2.12 0 0-.67-.22-2.2.82-.64-.18-1.32-.27-2-.27-.68 0-1.36.09-2 .27-1.53-1.03-2.2-.82-2.2-.82-.44 1.1-.16 1.92-.08 2.12-.51.56-.82 1.28-.82 2.15 0 3.06 1.86 3.75 3.64 3.95-.23.2-.44.55-.51 1.07-.46.21-1.61.55-2.33-.66-.15-.24-.6-.83-1.23-.82-.67.01-.27.38.01.53.34.19.73.9.82 1.13.16.45.68 1.31 2.69.94 0 .67.01 1.3.01 1.49 0 .21-.15.45-.55.38A7.995 7.995 0 0 1 0 8c0-4.42 3.58-8 8-8Z\"></path>\n",
       " </svg>\n",
       " </a>,\n",
       " <a class=\"d-inline-block d-lg-none flex-order-1 f5 no-underline border color-border-default rounded-2 px-2 py-1 color-fg-inherit\" data-ga-click=\"(Logged out) Header, clicked Sign in, text:sign-in\" data-hydro-click='{\"event_type\":\"authentication.click\",\"payload\":{\"location_in_page\":\"site header menu\",\"repository_id\":null,\"auth_type\":\"SIGN_UP\",\"originating_url\":\"https://github.com/topics/machine-learning\",\"user_id\":null}}' data-hydro-click-hmac=\"7eb9786355f56661977ccb26c053c0ee183ddc9d8ba1b1a414c745de8ed35acd\" href=\"/login?return_to=https%3A%2F%2Fgithub.com%2Ftopics%2Fmachine-learning\">\n",
       "           Sign in\n",
       "         </a>]"
      ]
     },
     "execution_count": 37,
     "metadata": {},
     "output_type": "execute_result"
    }
   ],
   "source": [
    "all_link_tags[:3]"
   ]
  },
  {
   "cell_type": "markdown",
   "id": "e58839a2",
   "metadata": {},
   "source": [
    "EXERCISE: Get a list of all the img tags on the page. How many images does the page contain?"
   ]
  },
  {
   "cell_type": "code",
   "execution_count": 38,
   "id": "f8f91590",
   "metadata": {},
   "outputs": [],
   "source": [
    "all_link_tags_img = doc.find_all('img')"
   ]
  },
  {
   "cell_type": "code",
   "execution_count": 39,
   "id": "81c5e397",
   "metadata": {},
   "outputs": [
    {
     "data": {
      "text/plain": [
       "7"
      ]
     },
     "execution_count": 39,
     "metadata": {},
     "output_type": "execute_result"
    }
   ],
   "source": [
    "len(all_link_tags_img)"
   ]
  },
  {
   "cell_type": "code",
   "execution_count": 40,
   "id": "0f99cdc9",
   "metadata": {},
   "outputs": [
    {
     "data": {
      "text/plain": [
       "[<img alt=\"julia\" class=\"d-block width-full\" loading=\"lazy\" src=\"https://repository-images.githubusercontent.com/1644196/ddfc1e00-6638-11e9-9b80-0fe7b9aedd72\"/>]"
      ]
     },
     "execution_count": 40,
     "metadata": {},
     "output_type": "execute_result"
    }
   ],
   "source": [
    "fith_imag=all_link_tags_img[5:6]\n",
    "fith_imag"
   ]
  },
  {
   "cell_type": "markdown",
   "id": "eceaf229",
   "metadata": {},
   "source": [
    "Accessing attributes\n",
    "The attributes of a tag can be accessed using the indexing notation, e.g., first_link['href']"
   ]
  },
  {
   "cell_type": "code",
   "execution_count": 41,
   "id": "a2ec5020",
   "metadata": {},
   "outputs": [
    {
     "data": {
      "text/plain": [
       "<a class=\"px-2 py-4 color-bg-accent-emphasis color-fg-on-emphasis show-on-focus js-skip-to-content\" href=\"#start-of-content\">Skip to content</a>"
      ]
     },
     "execution_count": 41,
     "metadata": {},
     "output_type": "execute_result"
    }
   ],
   "source": [
    "first_link"
   ]
  },
  {
   "cell_type": "code",
   "execution_count": 42,
   "id": "88208aa9",
   "metadata": {},
   "outputs": [
    {
     "data": {
      "text/plain": [
       "'#start-of-content'"
      ]
     },
     "execution_count": 42,
     "metadata": {},
     "output_type": "execute_result"
    }
   ],
   "source": [
    "first_link['href']"
   ]
  },
  {
   "cell_type": "code",
   "execution_count": 43,
   "id": "55b4dbb1",
   "metadata": {},
   "outputs": [
    {
     "data": {
      "text/plain": [
       "['px-2',\n",
       " 'py-4',\n",
       " 'color-bg-accent-emphasis',\n",
       " 'color-fg-on-emphasis',\n",
       " 'show-on-focus',\n",
       " 'js-skip-to-content']"
      ]
     },
     "execution_count": 43,
     "metadata": {},
     "output_type": "execute_result"
    }
   ],
   "source": [
    "first_link['class']"
   ]
  },
  {
   "cell_type": "code",
   "execution_count": 44,
   "id": "751861ff",
   "metadata": {},
   "outputs": [
    {
     "data": {
      "text/plain": [
       "{'href': '#start-of-content',\n",
       " 'class': ['px-2',\n",
       "  'py-4',\n",
       "  'color-bg-accent-emphasis',\n",
       "  'color-fg-on-emphasis',\n",
       "  'show-on-focus',\n",
       "  'js-skip-to-content']}"
      ]
     },
     "execution_count": 44,
     "metadata": {},
     "output_type": "execute_result"
    }
   ],
   "source": [
    "first_link.attrs"
   ]
  },
  {
   "cell_type": "markdown",
   "id": "6f0cd2f0",
   "metadata": {},
   "source": [
    " Find the 1th image tag on the page. Which attributes does the tag contain? Find the values of the src and alt attributes of the tag."
   ]
  },
  {
   "cell_type": "code",
   "execution_count": 45,
   "id": "6d5a8f00",
   "metadata": {},
   "outputs": [
    {
     "data": {
      "text/plain": [
       "['d-block', 'width-full']"
      ]
     },
     "execution_count": 45,
     "metadata": {},
     "output_type": "execute_result"
    }
   ],
   "source": [
    "first['class']"
   ]
  },
  {
   "cell_type": "code",
   "execution_count": 46,
   "id": "bdc6dd3e",
   "metadata": {},
   "outputs": [
    {
     "data": {
      "text/plain": [
       "{'loading': 'lazy',\n",
       " 'src': 'https://repository-images.githubusercontent.com/155220641/a16c4880-a501-11ea-9e8f-646cf611702e',\n",
       " 'alt': 'transformers',\n",
       " 'class': ['d-block', 'width-full']}"
      ]
     },
     "execution_count": 46,
     "metadata": {},
     "output_type": "execute_result"
    }
   ],
   "source": [
    "first.attrs"
   ]
  },
  {
   "cell_type": "markdown",
   "id": "f1ebcad1",
   "metadata": {},
   "source": [
    " Find the 5th image tag on the page (counting from 0). Which attributes does the tag contain? Find the values of the src and alt attributes of the tag."
   ]
  },
  {
   "cell_type": "code",
   "execution_count": 47,
   "id": "d1f17864",
   "metadata": {},
   "outputs": [
    {
     "data": {
      "text/plain": [
       "[<img alt=\"julia\" class=\"d-block width-full\" loading=\"lazy\" src=\"https://repository-images.githubusercontent.com/1644196/ddfc1e00-6638-11e9-9b80-0fe7b9aedd72\"/>]"
      ]
     },
     "execution_count": 47,
     "metadata": {},
     "output_type": "execute_result"
    }
   ],
   "source": [
    "fith_imag"
   ]
  },
  {
   "cell_type": "code",
   "execution_count": null,
   "id": "d399be9a",
   "metadata": {},
   "outputs": [],
   "source": []
  },
  {
   "cell_type": "markdown",
   "id": "83069ea2",
   "metadata": {},
   "source": [
    "#### Searching by Attribute Value\n",
    "\n",
    "QUESTION: Find the img tag(s) on the page with the alt attribute set to transformers.\n",
    "\n",
    "We can provide a dictionary of attributes as the second argument to find_all"
   ]
  },
  {
   "cell_type": "code",
   "execution_count": 48,
   "id": "b4180490",
   "metadata": {},
   "outputs": [
    {
     "data": {
      "text/plain": [
       "[<img alt=\"transformers\" class=\"d-block width-full\" loading=\"lazy\" src=\"https://repository-images.githubusercontent.com/155220641/a16c4880-a501-11ea-9e8f-646cf611702e\"/>]"
      ]
     },
     "execution_count": 48,
     "metadata": {},
     "output_type": "execute_result"
    }
   ],
   "source": [
    "doc.find_all('img',{'alt': 'transformers'})"
   ]
  },
  {
   "cell_type": "markdown",
   "id": "b2a458e3",
   "metadata": {},
   "source": [
    "If we're just interested in the first element, we can use the find method. Keep in mind that find returns None if no matching tag is found."
   ]
  },
  {
   "cell_type": "code",
   "execution_count": 49,
   "id": "c642b700",
   "metadata": {},
   "outputs": [
    {
     "data": {
      "text/plain": [
       "<img alt=\"transformers\" class=\"d-block width-full\" loading=\"lazy\" src=\"https://repository-images.githubusercontent.com/155220641/a16c4880-a501-11ea-9e8f-646cf611702e\"/>"
      ]
     },
     "execution_count": 49,
     "metadata": {},
     "output_type": "execute_result"
    }
   ],
   "source": [
    "doc.find('img',{'alt':'transformers'})"
   ]
  },
  {
   "cell_type": "markdown",
   "id": "5b0b5110",
   "metadata": {},
   "source": [
    "EXERCISE: Find the src attribute of the first img tag with the alt attribute set to julia. Visit the link and check what the image represents."
   ]
  },
  {
   "cell_type": "code",
   "execution_count": 50,
   "id": "a895fae9",
   "metadata": {},
   "outputs": [
    {
     "data": {
      "text/plain": [
       "<img alt=\"julia\" class=\"d-block width-full\" loading=\"lazy\" src=\"https://repository-images.githubusercontent.com/1644196/ddfc1e00-6638-11e9-9b80-0fe7b9aedd72\"/>"
      ]
     },
     "execution_count": 50,
     "metadata": {},
     "output_type": "execute_result"
    }
   ],
   "source": [
    "doc.find('img',{'alt':'julia'})"
   ]
  },
  {
   "cell_type": "code",
   "execution_count": null,
   "id": "8b1e1d23",
   "metadata": {},
   "outputs": [],
   "source": []
  },
  {
   "cell_type": "markdown",
   "id": "385e7bd9",
   "metadata": {},
   "source": [
    "#### Searching by Class\n",
    "The class attribute is one of the most frequently used attributes on HTML tags (used for layout and styling). We can search for tags containing a class using the class_ argument in find_all (note that class is a reserved keyword in Python, hence the underscore in the argument name).\n",
    "\n",
    "QUESTION: Find all the tags containing the class HeaderMenu-link."
   ]
  },
  {
   "cell_type": "code",
   "execution_count": 51,
   "id": "f3ec6f2e",
   "metadata": {
    "scrolled": true
   },
   "outputs": [
    {
     "data": {
      "text/plain": [
       "[<button aria-expanded=\"false\" class=\"HeaderMenu-link border-0 width-full width-lg-auto px-0 px-lg-2 py-3 py-lg-2 no-wrap d-flex flex-items-center flex-justify-between js-details-target\" type=\"button\">\n",
       "         Product\n",
       "         <svg aria-hidden=\"true\" class=\"octicon octicon-chevron-down HeaderMenu-icon ml-1\" data-view-component=\"true\" height=\"16\" opacity=\"0.5\" version=\"1.1\" viewbox=\"0 0 16 16\" width=\"16\">\n",
       " <path d=\"M12.78 5.22a.749.749 0 0 1 0 1.06l-4.25 4.25a.749.749 0 0 1-1.06 0L3.22 6.28a.749.749 0 1 1 1.06-1.06L8 8.939l3.72-3.719a.749.749 0 0 1 1.06 0Z\"></path>\n",
       " </svg>\n",
       " </button>,\n",
       " <button aria-expanded=\"false\" class=\"HeaderMenu-link border-0 width-full width-lg-auto px-0 px-lg-2 py-3 py-lg-2 no-wrap d-flex flex-items-center flex-justify-between js-details-target\" type=\"button\">\n",
       "         Solutions\n",
       "         <svg aria-hidden=\"true\" class=\"octicon octicon-chevron-down HeaderMenu-icon ml-1\" data-view-component=\"true\" height=\"16\" opacity=\"0.5\" version=\"1.1\" viewbox=\"0 0 16 16\" width=\"16\">\n",
       " <path d=\"M12.78 5.22a.749.749 0 0 1 0 1.06l-4.25 4.25a.749.749 0 0 1-1.06 0L3.22 6.28a.749.749 0 1 1 1.06-1.06L8 8.939l3.72-3.719a.749.749 0 0 1 1.06 0Z\"></path>\n",
       " </svg>\n",
       " </button>,\n",
       " <button aria-expanded=\"false\" class=\"HeaderMenu-link border-0 width-full width-lg-auto px-0 px-lg-2 py-3 py-lg-2 no-wrap d-flex flex-items-center flex-justify-between js-details-target\" type=\"button\">\n",
       "         Open Source\n",
       "         <svg aria-hidden=\"true\" class=\"octicon octicon-chevron-down HeaderMenu-icon ml-1\" data-view-component=\"true\" height=\"16\" opacity=\"0.5\" version=\"1.1\" viewbox=\"0 0 16 16\" width=\"16\">\n",
       " <path d=\"M12.78 5.22a.749.749 0 0 1 0 1.06l-4.25 4.25a.749.749 0 0 1-1.06 0L3.22 6.28a.749.749 0 1 1 1.06-1.06L8 8.939l3.72-3.719a.749.749 0 0 1 1.06 0Z\"></path>\n",
       " </svg>\n",
       " </button>,\n",
       " <a class=\"HeaderMenu-link no-underline px-0 px-lg-2 py-3 py-lg-2 d-block d-lg-inline-block\" data-analytics-event='{\"category\":\"Header menu top item (logged out)\",\"action\":\"click to go to Pricing\",\"label\":\"ref_cta:Pricing;\"}' href=\"/pricing\">Pricing</a>,\n",
       " <a class=\"HeaderMenu-link HeaderMenu-link--sign-in flex-shrink-0 no-underline d-block d-lg-inline-block border border-lg-0 rounded rounded-lg-0 p-2 p-lg-0\" data-ga-click=\"(Logged out) Header, clicked Sign in, text:sign-in\" data-hydro-click='{\"event_type\":\"authentication.click\",\"payload\":{\"location_in_page\":\"site header menu\",\"repository_id\":null,\"auth_type\":\"SIGN_UP\",\"originating_url\":\"https://github.com/topics/machine-learning\",\"user_id\":null}}' data-hydro-click-hmac=\"7eb9786355f56661977ccb26c053c0ee183ddc9d8ba1b1a414c745de8ed35acd\" href=\"/login?return_to=https%3A%2F%2Fgithub.com%2Ftopics%2Fmachine-learning\">\n",
       "               Sign in\n",
       "             </a>,\n",
       " <a class=\"HeaderMenu-link HeaderMenu-link--sign-up flex-shrink-0 d-none d-lg-inline-block no-underline border color-border-default rounded px-2 py-1\" data-analytics-event='{\"category\":\"Sign up\",\"action\":\"click to sign up for account\",\"label\":\"ref_page:/topics/machine-learning;ref_cta:Sign up;ref_loc:header logged out\"}' data-hydro-click='{\"event_type\":\"authentication.click\",\"payload\":{\"location_in_page\":\"site header menu\",\"repository_id\":null,\"auth_type\":\"SIGN_UP\",\"originating_url\":\"https://github.com/topics/machine-learning\",\"user_id\":null}}' data-hydro-click-hmac=\"7eb9786355f56661977ccb26c053c0ee183ddc9d8ba1b1a414c745de8ed35acd\" href=\"/signup?ref_cta=Sign+up&amp;ref_loc=header+logged+out&amp;ref_page=%2Ftopics%2Fmachine-learning&amp;source=header\">\n",
       "               Sign up\n",
       "             </a>]"
      ]
     },
     "execution_count": 51,
     "metadata": {},
     "output_type": "execute_result"
    }
   ],
   "source": [
    "matching_tags = doc.find_all(class_='HeaderMenu-link')\n",
    "matching_tags"
   ]
  },
  {
   "cell_type": "markdown",
   "id": "25b6e6ac",
   "metadata": {},
   "source": [
    "We can also for a specific type of tag e.g. < a > matching the given class."
   ]
  },
  {
   "cell_type": "code",
   "execution_count": 52,
   "id": "03255487",
   "metadata": {
    "scrolled": true
   },
   "outputs": [
    {
     "data": {
      "text/plain": [
       "[<a class=\"HeaderMenu-link no-underline px-0 px-lg-2 py-3 py-lg-2 d-block d-lg-inline-block\" data-analytics-event='{\"category\":\"Header menu top item (logged out)\",\"action\":\"click to go to Pricing\",\"label\":\"ref_cta:Pricing;\"}' href=\"/pricing\">Pricing</a>,\n",
       " <a class=\"HeaderMenu-link HeaderMenu-link--sign-in flex-shrink-0 no-underline d-block d-lg-inline-block border border-lg-0 rounded rounded-lg-0 p-2 p-lg-0\" data-ga-click=\"(Logged out) Header, clicked Sign in, text:sign-in\" data-hydro-click='{\"event_type\":\"authentication.click\",\"payload\":{\"location_in_page\":\"site header menu\",\"repository_id\":null,\"auth_type\":\"SIGN_UP\",\"originating_url\":\"https://github.com/topics/machine-learning\",\"user_id\":null}}' data-hydro-click-hmac=\"7eb9786355f56661977ccb26c053c0ee183ddc9d8ba1b1a414c745de8ed35acd\" href=\"/login?return_to=https%3A%2F%2Fgithub.com%2Ftopics%2Fmachine-learning\">\n",
       "               Sign in\n",
       "             </a>,\n",
       " <a class=\"HeaderMenu-link HeaderMenu-link--sign-up flex-shrink-0 d-none d-lg-inline-block no-underline border color-border-default rounded px-2 py-1\" data-analytics-event='{\"category\":\"Sign up\",\"action\":\"click to sign up for account\",\"label\":\"ref_page:/topics/machine-learning;ref_cta:Sign up;ref_loc:header logged out\"}' data-hydro-click='{\"event_type\":\"authentication.click\",\"payload\":{\"location_in_page\":\"site header menu\",\"repository_id\":null,\"auth_type\":\"SIGN_UP\",\"originating_url\":\"https://github.com/topics/machine-learning\",\"user_id\":null}}' data-hydro-click-hmac=\"7eb9786355f56661977ccb26c053c0ee183ddc9d8ba1b1a414c745de8ed35acd\" href=\"/signup?ref_cta=Sign+up&amp;ref_loc=header+logged+out&amp;ref_page=%2Ftopics%2Fmachine-learning&amp;source=header\">\n",
       "               Sign up\n",
       "             </a>]"
      ]
     },
     "execution_count": 52,
     "metadata": {},
     "output_type": "execute_result"
    }
   ],
   "source": [
    "header_link_tags = doc.find_all('a', class_='HeaderMenu-link')\n",
    "header_link_tags"
   ]
  },
  {
   "cell_type": "markdown",
   "id": "96c850d6",
   "metadata": {},
   "source": [
    "#### Parsing Information from Tags\n",
    "Once we have a list of tags matching some criteria, it's easy to extract information and convert it to a more convenient format.\n",
    "\n",
    "QUESTION: Find the link text and URL of all the links withing the page header on https://github.com/topics/machine-learning .\n",
    "\n",
    "We'll create a list of dictionaries containing the required information. We'll add the base URL https://github.com as a prefix because the href attribute only contains the relative path e.g. /explore."
   ]
  },
  {
   "cell_type": "code",
   "execution_count": 53,
   "id": "96a321bb",
   "metadata": {},
   "outputs": [
    {
     "data": {
      "text/plain": [
       "'/pricing'"
      ]
     },
     "execution_count": 53,
     "metadata": {},
     "output_type": "execute_result"
    }
   ],
   "source": [
    "header_link_tags[0]['href']"
   ]
  },
  {
   "cell_type": "code",
   "execution_count": 54,
   "id": "c33f95e0",
   "metadata": {},
   "outputs": [
    {
     "data": {
      "text/plain": [
       "[{'title': 'Pricing', 'url': 'https://github.com/pricing'},\n",
       " {'title': 'Sign in',\n",
       "  'url': 'https://github.com/login?return_to=https%3A%2F%2Fgithub.com%2Ftopics%2Fmachine-learning'},\n",
       " {'title': 'Sign up',\n",
       "  'url': 'https://github.com/signup?ref_cta=Sign+up&ref_loc=header+logged+out&ref_page=%2Ftopics%2Fmachine-learning&source=header'}]"
      ]
     },
     "execution_count": 54,
     "metadata": {},
     "output_type": "execute_result"
    }
   ],
   "source": [
    "header_links = []\n",
    "base_url = 'https://github.com'\n",
    "\n",
    "for tag in header_link_tags:\n",
    "    header_links.append({'title': tag.text.strip(), 'url': base_url + tag['href']})\n",
    "header_links"
   ]
  },
  {
   "cell_type": "code",
   "execution_count": null,
   "id": "44620a34",
   "metadata": {},
   "outputs": [],
   "source": []
  },
  {
   "cell_type": "code",
   "execution_count": 55,
   "id": "ee24843d",
   "metadata": {},
   "outputs": [
    {
     "data": {
      "text/plain": [
       "[<img alt=\"transformers\" class=\"d-block width-full\" loading=\"lazy\" src=\"https://repository-images.githubusercontent.com/155220641/a16c4880-a501-11ea-9e8f-646cf611702e\"/>,\n",
       " <img alt=\"netdata\" class=\"d-block width-full\" loading=\"lazy\" src=\"https://repository-images.githubusercontent.com/10744183/8d08ea53-6359-45fe-bc4d-067cfe1673a1\"/>,\n",
       " <img alt=\"ML-For-Beginners\" class=\"d-block width-full\" loading=\"lazy\" src=\"https://repository-images.githubusercontent.com/343965132/549b1a80-c897-11eb-9436-918072d2e0f8\"/>,\n",
       " <img alt=\"awesome-scalability\" class=\"d-block width-full\" loading=\"lazy\" src=\"https://repository-images.githubusercontent.com/115478820/109a8e00-283a-11ea-8891-ad7215b06a4c\"/>,\n",
       " <img alt=\"yolov5\" class=\"d-block width-full\" loading=\"lazy\" src=\"https://repository-images.githubusercontent.com/264818686/c9bae91d-ad2d-491c-876f-b6948f1a7c66\"/>,\n",
       " <img alt=\"julia\" class=\"d-block width-full\" loading=\"lazy\" src=\"https://repository-images.githubusercontent.com/1644196/ddfc1e00-6638-11e9-9b80-0fe7b9aedd72\"/>,\n",
       " <img alt=\"annotated_deep_learning_paper_implementations\" class=\"d-block width-full\" loading=\"lazy\" src=\"https://repository-images.githubusercontent.com/290091948/ac5a4b00-3e4b-11eb-948f-8e1ff5bdcc63\"/>]"
      ]
     },
     "execution_count": 55,
     "metadata": {},
     "output_type": "execute_result"
    }
   ],
   "source": [
    "all_link_tags_img = doc.find_all('img')\n",
    "all_link_tags_img"
   ]
  },
  {
   "cell_type": "code",
   "execution_count": 56,
   "id": "f5b7f0d2",
   "metadata": {},
   "outputs": [
    {
     "data": {
      "text/plain": [
       "[<img alt=\"transformers\" class=\"d-block width-full\" loading=\"lazy\" src=\"https://repository-images.githubusercontent.com/155220641/a16c4880-a501-11ea-9e8f-646cf611702e\"/>,\n",
       " <img alt=\"netdata\" class=\"d-block width-full\" loading=\"lazy\" src=\"https://repository-images.githubusercontent.com/10744183/8d08ea53-6359-45fe-bc4d-067cfe1673a1\"/>,\n",
       " <img alt=\"ML-For-Beginners\" class=\"d-block width-full\" loading=\"lazy\" src=\"https://repository-images.githubusercontent.com/343965132/549b1a80-c897-11eb-9436-918072d2e0f8\"/>,\n",
       " <img alt=\"awesome-scalability\" class=\"d-block width-full\" loading=\"lazy\" src=\"https://repository-images.githubusercontent.com/115478820/109a8e00-283a-11ea-8891-ad7215b06a4c\"/>,\n",
       " <img alt=\"yolov5\" class=\"d-block width-full\" loading=\"lazy\" src=\"https://repository-images.githubusercontent.com/264818686/c9bae91d-ad2d-491c-876f-b6948f1a7c66\"/>,\n",
       " <img alt=\"julia\" class=\"d-block width-full\" loading=\"lazy\" src=\"https://repository-images.githubusercontent.com/1644196/ddfc1e00-6638-11e9-9b80-0fe7b9aedd72\"/>,\n",
       " <img alt=\"annotated_deep_learning_paper_implementations\" class=\"d-block width-full\" loading=\"lazy\" src=\"https://repository-images.githubusercontent.com/290091948/ac5a4b00-3e4b-11eb-948f-8e1ff5bdcc63\"/>]"
      ]
     },
     "execution_count": 56,
     "metadata": {},
     "output_type": "execute_result"
    }
   ],
   "source": [
    "img_tags = doc.find_all('img', class_='d-block width-full')\n",
    "img_tags"
   ]
  },
  {
   "cell_type": "code",
   "execution_count": 57,
   "id": "b2c7d510",
   "metadata": {},
   "outputs": [
    {
     "data": {
      "text/plain": [
       "'transformers'"
      ]
     },
     "execution_count": 57,
     "metadata": {},
     "output_type": "execute_result"
    }
   ],
   "source": [
    "img_tags[0]['alt']"
   ]
  },
  {
   "cell_type": "code",
   "execution_count": 58,
   "id": "9aa26226",
   "metadata": {},
   "outputs": [
    {
     "data": {
      "text/plain": [
       "'https://repository-images.githubusercontent.com/155220641/a16c4880-a501-11ea-9e8f-646cf611702e'"
      ]
     },
     "execution_count": 58,
     "metadata": {},
     "output_type": "execute_result"
    }
   ],
   "source": [
    "img_tags[0]['src']"
   ]
  },
  {
   "cell_type": "code",
   "execution_count": 59,
   "id": "c6e2d5c3",
   "metadata": {},
   "outputs": [
    {
     "data": {
      "text/plain": [
       "[{'User_Name': 'transformers',\n",
       "  'url': 'https://repository-images.githubusercontent.com/155220641/a16c4880-a501-11ea-9e8f-646cf611702e'},\n",
       " {'User_Name': 'netdata',\n",
       "  'url': 'https://repository-images.githubusercontent.com/10744183/8d08ea53-6359-45fe-bc4d-067cfe1673a1'},\n",
       " {'User_Name': 'ML-For-Beginners',\n",
       "  'url': 'https://repository-images.githubusercontent.com/343965132/549b1a80-c897-11eb-9436-918072d2e0f8'},\n",
       " {'User_Name': 'awesome-scalability',\n",
       "  'url': 'https://repository-images.githubusercontent.com/115478820/109a8e00-283a-11ea-8891-ad7215b06a4c'},\n",
       " {'User_Name': 'yolov5',\n",
       "  'url': 'https://repository-images.githubusercontent.com/264818686/c9bae91d-ad2d-491c-876f-b6948f1a7c66'},\n",
       " {'User_Name': 'julia',\n",
       "  'url': 'https://repository-images.githubusercontent.com/1644196/ddfc1e00-6638-11e9-9b80-0fe7b9aedd72'},\n",
       " {'User_Name': 'annotated_deep_learning_paper_implementations',\n",
       "  'url': 'https://repository-images.githubusercontent.com/290091948/ac5a4b00-3e4b-11eb-948f-8e1ff5bdcc63'}]"
      ]
     },
     "execution_count": 59,
     "metadata": {},
     "output_type": "execute_result"
    }
   ],
   "source": [
    "img_links = []\n",
    "\n",
    "for tag in img_tags:\n",
    "    img_links.append({'User_Name' : tag['alt'], 'url' : tag['src']})\n",
    "img_links"
   ]
  },
  {
   "cell_type": "markdown",
   "id": "d3942903",
   "metadata": {},
   "source": [
    "#### Elements inside a tag\n",
    "QUESTION: Find the li tags that are direct children of ul tag with the class top-list in the sample HTML document below."
   ]
  },
  {
   "cell_type": "code",
   "execution_count": 60,
   "id": "05feec4c",
   "metadata": {},
   "outputs": [],
   "source": [
    "with open('sample1.html', 'r', encoding = \"utf-8\") as file:\n",
    "    html_source_1 = file.read()"
   ]
  },
  {
   "cell_type": "code",
   "execution_count": 61,
   "id": "21c1fddd",
   "metadata": {
    "scrolled": false
   },
   "outputs": [
    {
     "data": {
      "text/plain": [
       "sample_html = \"\"\"\n",
       "<html>\n",
       "<body>\n",
       "<ul class=\"top-list\">\n",
       "<li>Item 1</li>\n",
       "<li>Item 2</li>\n",
       "<li>\n",
       "<ul>\n",
       "<li>Item 3.1</li>\n",
       "<li>Item 3.2</li>\n",
       "<li>Item 3.3</li>\n",
       "</ul>\n",
       "</li>\n",
       "</ul>\n",
       "</body>\n",
       "</html>\"\"\""
      ]
     },
     "execution_count": 61,
     "metadata": {},
     "output_type": "execute_result"
    }
   ],
   "source": [
    "sample_doc = BeautifulSoup(html_source_1, 'html.parser')\n",
    "sample_doc"
   ]
  },
  {
   "cell_type": "code",
   "execution_count": 62,
   "id": "a77c1ff7",
   "metadata": {},
   "outputs": [
    {
     "data": {
      "text/plain": [
       "<ul class=\"top-list\">\n",
       "<li>Item 1</li>\n",
       "<li>Item 2</li>\n",
       "<li>\n",
       "<ul>\n",
       "<li>Item 3.1</li>\n",
       "<li>Item 3.2</li>\n",
       "<li>Item 3.3</li>\n",
       "</ul>\n",
       "</li>\n",
       "</ul>"
      ]
     },
     "execution_count": 62,
     "metadata": {},
     "output_type": "execute_result"
    }
   ],
   "source": [
    "list_tag = sample_doc.find('ul', class_='top-list')\n",
    "list_tag"
   ]
  },
  {
   "cell_type": "markdown",
   "id": "d21923ec",
   "metadata": {},
   "source": [
    "We can use the find_all method on the tag, and set recursive=False to find just the direct children.\n",
    "\n"
   ]
  },
  {
   "cell_type": "code",
   "execution_count": 63,
   "id": "17b7db4e",
   "metadata": {},
   "outputs": [
    {
     "data": {
      "text/plain": [
       "[<li>Item 1</li>,\n",
       " <li>Item 2</li>,\n",
       " <li>\n",
       " <ul>\n",
       " <li>Item 3.1</li>\n",
       " <li>Item 3.2</li>\n",
       " <li>Item 3.3</li>\n",
       " </ul>\n",
       " </li>]"
      ]
     },
     "execution_count": 63,
     "metadata": {},
     "output_type": "execute_result"
    }
   ],
   "source": [
    "list_item_tags = list_tag.find_all('li', recursive = False)\n",
    "list_item_tags "
   ]
  },
  {
   "cell_type": "markdown",
   "id": "cfc844d5",
   "metadata": {},
   "source": [
    "Without recursive=False, the inner list items are also included in the result."
   ]
  },
  {
   "cell_type": "code",
   "execution_count": 64,
   "id": "b602d8e6",
   "metadata": {},
   "outputs": [
    {
     "data": {
      "text/plain": [
       "[<li>Item 1</li>,\n",
       " <li>Item 2</li>,\n",
       " <li>\n",
       " <ul>\n",
       " <li>Item 3.1</li>\n",
       " <li>Item 3.2</li>\n",
       " <li>Item 3.3</li>\n",
       " </ul>\n",
       " </li>,\n",
       " <li>Item 3.1</li>,\n",
       " <li>Item 3.2</li>,\n",
       " <li>Item 3.3</li>]"
      ]
     },
     "execution_count": 64,
     "metadata": {},
     "output_type": "execute_result"
    }
   ],
   "source": [
    "list_item_tags = list_tag.find_all('li')\n",
    "list_item_tags "
   ]
  },
  {
   "cell_type": "markdown",
   "id": "6f801f70",
   "metadata": {},
   "source": [
    "#### Top Repositories for a Topic\n",
    "Let's return to our original problem statement of finding the top repositories for a given topic. Before we parse a page and find the top repositories, let's define a helper function to get the web page for any topic.\n",
    "\n",
    "QUESTION: Define a function get_topic_page that downloads the GitHub web page for a given topic and returns a beautiful soup document representing the page."
   ]
  },
  {
   "cell_type": "code",
   "execution_count": 65,
   "id": "145546f0",
   "metadata": {},
   "outputs": [],
   "source": [
    "# def get_topic_page(topic):\n",
    "#     # Construct the URL\n",
    "#     topic_repos_url = 'https://github.com/topics/' + topic\n",
    "    \n",
    "#     # Get the HTML page content using requests\n",
    "#     response = requests.get(topic_repos_url)\n",
    "    \n",
    "#     # Ensure that the reponse is valid\n",
    "#     if response.status_code != 200:\n",
    "#         print('Status code:', response.status_code)\n",
    "#         raise Exception('Failed to fetch web page ' + topic_repos_url)\n",
    "    \n",
    "#     # Construct a beautiful soup document\n",
    "#     doc = BeautifulSoup(response.text)\n",
    "    \n",
    "#    return doc"
   ]
  },
  {
   "cell_type": "code",
   "execution_count": 66,
   "id": "675f5ad8",
   "metadata": {},
   "outputs": [],
   "source": [
    "# doc = get_topic_page('machine-learning')"
   ]
  },
  {
   "cell_type": "code",
   "execution_count": 67,
   "id": "5cf7c322",
   "metadata": {},
   "outputs": [],
   "source": [
    "# doc.title.text"
   ]
  },
  {
   "cell_type": "code",
   "execution_count": 68,
   "id": "51bf366c",
   "metadata": {},
   "outputs": [],
   "source": [
    "def get_topic_page(topic):\n",
    "    \n",
    "    topic_repos_url = 'https://github.com/topics/' + topic\n",
    "    \n",
    "    response = requests.get(topic_repos_url)\n",
    "    \n",
    "    if response.status_code !=200:\n",
    "        print('Status code:', response.status_code)\n",
    "        raise Exception('Failed to fetch web page '+ topic_repos_url)\n",
    "        \n",
    "    doc = BeautifulSoup(response.text)\n",
    "    \n",
    "    return doc"
   ]
  },
  {
   "cell_type": "code",
   "execution_count": 69,
   "id": "216b2262",
   "metadata": {},
   "outputs": [],
   "source": [
    "doc = get_topic_page('machine-learning')"
   ]
  },
  {
   "cell_type": "code",
   "execution_count": 70,
   "id": "2e8ea450",
   "metadata": {},
   "outputs": [
    {
     "data": {
      "text/plain": [
       "'machine-learning · GitHub Topics · GitHub'"
      ]
     },
     "execution_count": 70,
     "metadata": {},
     "output_type": "execute_result"
    }
   ],
   "source": [
    "doc.title.text"
   ]
  },
  {
   "cell_type": "code",
   "execution_count": 71,
   "id": "c0531598",
   "metadata": {},
   "outputs": [],
   "source": [
    "doc2= get_topic_page('data-analysis')"
   ]
  },
  {
   "cell_type": "code",
   "execution_count": 72,
   "id": "676b18c7",
   "metadata": {},
   "outputs": [
    {
     "data": {
      "text/plain": [
       "'data-analysis · GitHub Topics · GitHub'"
      ]
     },
     "execution_count": 72,
     "metadata": {},
     "output_type": "execute_result"
    }
   ],
   "source": [
    "doc2.title.text"
   ]
  },
  {
   "cell_type": "code",
   "execution_count": null,
   "id": "731c35e7",
   "metadata": {},
   "outputs": [],
   "source": []
  },
  {
   "cell_type": "markdown",
   "id": "e0a26c69",
   "metadata": {},
   "source": [
    "Develop an approach to find the repository name, owner's username, no. of stars, and repository link for the repositories listed on a topic page."
   ]
  },
  {
   "cell_type": "markdown",
   "id": "65989475",
   "metadata": {},
   "source": [
    "Upon inspecting the box containing the information for a repository, you will find an article tag for each repository, with class attribute set to border rounded color-shadow-small color-bg-secondary my-4.\n",
    "\n",
    "Let's find all the article tags matching this class."
   ]
  },
  {
   "cell_type": "code",
   "execution_count": 73,
   "id": "3a232580",
   "metadata": {},
   "outputs": [],
   "source": [
    "article_tags = doc.find_all('article', class_='border rounded color-shadow-small color-bg-subtle my-4')"
   ]
  },
  {
   "cell_type": "code",
   "execution_count": 74,
   "id": "77ca4ef1",
   "metadata": {},
   "outputs": [
    {
     "data": {
      "text/plain": [
       "20"
      ]
     },
     "execution_count": 74,
     "metadata": {},
     "output_type": "execute_result"
    }
   ],
   "source": [
    "len(article_tags)"
   ]
  },
  {
   "cell_type": "markdown",
   "id": "109ebe21",
   "metadata": {},
   "source": [
    "There are 20 repositories listed on the page, and our query resulted in 30 article tags. It looks like we've found the enclosing tag for each repository.\n",
    "\n",
    "We need to extract the following information from each tag:\n",
    "\n",
    "* Repository name\n",
    "* Owner's username\n",
    "* Number of stars\n",
    "* Repository link\n",
    "\n",
    "Look at the source of any of the article tags. You will notice that the repository name, owner's username, and the repository link are all part of an h1 tag."
   ]
  },
  {
   "cell_type": "code",
   "execution_count": 75,
   "id": "27d343ba",
   "metadata": {
    "scrolled": true
   },
   "outputs": [
    {
     "data": {
      "text/plain": [
       "<article class=\"border rounded color-shadow-small color-bg-subtle my-4\">\n",
       "<a class=\"overflow-hidden flex-items-center rounded-top-2 Link color-border-muted border-bottom d-flex position-relative\" data-hydro-click='{\"event_type\":\"explore.click\",\"payload\":{\"click_context\":\"REPOSITORY_CARD\",\"click_target\":\"REPOSITORY\",\"click_visual_representation\":\"REPOSITORY_IMAGE\",\"actor_id\":null,\"record_id\":343965132,\"originating_url\":\"https://github.com/topics/machine-learning\",\"user_id\":null}}' data-hydro-click-hmac=\"c911d4e221d5b78abbd94601cfa8880fb22ee6b844c2d4de0f8a969d63e38a3f\" data-turbo=\"false\" data-view-component=\"true\" href=\"/microsoft/ML-For-Beginners\" style=\"max-height:275px\">\n",
       "<img alt=\"ML-For-Beginners\" class=\"d-block width-full\" loading=\"lazy\" src=\"https://repository-images.githubusercontent.com/343965132/549b1a80-c897-11eb-9436-918072d2e0f8\"/>\n",
       "</a>\n",
       "<div class=\"px-3\">\n",
       "<div class=\"d-flex flex-justify-between flex-items-start flex-wrap gap-2 my-3\">\n",
       "<div class=\"d-flex flex-1\">\n",
       "<span style=\"margin-top:2px\">\n",
       "<svg aria-hidden=\"true\" class=\"octicon octicon-repo color-fg-muted mr-2\" data-view-component=\"true\" height=\"16\" version=\"1.1\" viewbox=\"0 0 16 16\" width=\"16\">\n",
       "<path d=\"M2 2.5A2.5 2.5 0 0 1 4.5 0h8.75a.75.75 0 0 1 .75.75v12.5a.75.75 0 0 1-.75.75h-2.5a.75.75 0 0 1 0-1.5h1.75v-2h-8a1 1 0 0 0-.714 1.7.75.75 0 1 1-1.072 1.05A2.495 2.495 0 0 1 2 11.5Zm10.5-1h-8a1 1 0 0 0-1 1v6.708A2.486 2.486 0 0 1 4.5 9h8ZM5 12.25a.25.25 0 0 1 .25-.25h3.5a.25.25 0 0 1 .25.25v3.25a.25.25 0 0 1-.4.2l-1.45-1.087a.249.249 0 0 0-.3 0L5.4 15.7a.25.25 0 0 1-.4-.2Z\"></path>\n",
       "</svg>\n",
       "</span>\n",
       "<h3 class=\"f3 color-fg-muted text-normal lh-condensed\">\n",
       "<a class=\"Link\" data-hydro-click='{\"event_type\":\"explore.click\",\"payload\":{\"click_context\":\"REPOSITORY_CARD\",\"click_target\":\"OWNER\",\"click_visual_representation\":\"REPOSITORY_OWNER_HEADING\",\"actor_id\":null,\"record_id\":6154722,\"originating_url\":\"https://github.com/topics/machine-learning\",\"user_id\":null}}' data-hydro-click-hmac=\"ce7c1880986fcc5cf78fd675165bf59f7da7919ad46e02c6c4ca45011e1f6f97\" data-turbo=\"false\" data-view-component=\"true\" href=\"/microsoft\">\n",
       "            microsoft\n",
       "</a>          /\n",
       "          <a class=\"Link text-bold wb-break-word\" data-hydro-click='{\"event_type\":\"explore.click\",\"payload\":{\"click_context\":\"REPOSITORY_CARD\",\"click_target\":\"REPOSITORY\",\"click_visual_representation\":\"REPOSITORY_NAME_HEADING\",\"actor_id\":null,\"record_id\":343965132,\"originating_url\":\"https://github.com/topics/machine-learning\",\"user_id\":null}}' data-hydro-click-hmac=\"04eb0a73e352b25eddc48d7faa71ca594c32afbf1c64f09e38e88a5abed6eee7\" data-turbo=\"false\" data-view-component=\"true\" href=\"/microsoft/ML-For-Beginners\">\n",
       "            ML-For-Beginners\n",
       "</a> </h3>\n",
       "</div>\n",
       "<div class=\"d-flex flex-items-center\">\n",
       "<div class=\"BtnGroup d-flex\" data-view-component=\"true\">\n",
       "<a aria-label=\"You must be signed in to star a repository\" class=\"tooltipped tooltipped-s btn-sm btn BtnGroup-item color-bg-default\" data-hydro-click='{\"event_type\":\"authentication.click\",\"payload\":{\"location_in_page\":\"star button\",\"repository_id\":343965132,\"auth_type\":\"LOG_IN\",\"originating_url\":\"https://github.com/topics/machine-learning\",\"user_id\":null}}' data-hydro-click-hmac=\"845f2fc2372f54cb0161c07c1a99707b276393cfc598f8a09c7839c3ac1c00c1\" data-view-component=\"true\" href=\"/login?return_to=%2Fmicrosoft%2FML-For-Beginners\" rel=\"nofollow\"> <svg aria-hidden=\"true\" class=\"octicon octicon-star v-align-text-bottom d-inline-block mr-2\" data-view-component=\"true\" height=\"16\" version=\"1.1\" viewbox=\"0 0 16 16\" width=\"16\">\n",
       "<path d=\"M8 .25a.75.75 0 0 1 .673.418l1.882 3.815 4.21.612a.75.75 0 0 1 .416 1.279l-3.046 2.97.719 4.192a.751.751 0 0 1-1.088.791L8 12.347l-3.766 1.98a.75.75 0 0 1-1.088-.79l.72-4.194L.818 6.374a.75.75 0 0 1 .416-1.28l4.21-.611L7.327.668A.75.75 0 0 1 8 .25Zm0 2.445L6.615 5.5a.75.75 0 0 1-.564.41l-3.097.45 2.24 2.184a.75.75 0 0 1 .216.664l-.528 3.084 2.769-1.456a.75.75 0 0 1 .698 0l2.77 1.456-.53-3.084a.75.75 0 0 1 .216-.664l2.24-2.183-3.096-.45a.75.75 0 0 1-.564-.41L8 2.694Z\"></path>\n",
       "</svg><span class=\"d-inline\" data-view-component=\"true\">\n",
       "          Star\n",
       "</span> <span aria-label=\"63431 users starred this repository\" class=\"Counter js-social-count\" data-plural-suffix=\"users starred this repository\" data-singular-suffix=\"user starred this repository\" data-turbo-replace=\"true\" data-view-component=\"true\" id=\"repo-stars-counter-star\" title=\"63,431\">63.4k</span>\n",
       "</a> <button aria-label=\"You must be signed in to add this repository to a list\" class=\"btn-sm btn BtnGroup-item px-2\" data-view-component=\"true\" disabled=\"disabled\" type=\"button\"> <svg aria-hidden=\"true\" class=\"octicon octicon-triangle-down\" data-view-component=\"true\" height=\"16\" version=\"1.1\" viewbox=\"0 0 16 16\" width=\"16\">\n",
       "<path d=\"m4.427 7.427 3.396 3.396a.25.25 0 0 0 .354 0l3.396-3.396A.25.25 0 0 0 11.396 7H4.604a.25.25 0 0 0-.177.427Z\"></path>\n",
       "</svg>\n",
       "</button></div>\n",
       "</div>\n",
       "</div>\n",
       "</div>\n",
       "<nav aria-label=\"Repository menu\" class=\"tabnav px-3 mb-0\" data-view-component=\"true\">\n",
       "<ul class=\"tabnav-tabs\" data-view-component=\"true\">\n",
       "<li class=\"d-inline-flex\" data-view-component=\"true\">\n",
       "<a aria-current=\"true\" class=\"tabnav-tab f6 px-2 py-1\" data-hydro-click='{\"event_type\":\"explore.click\",\"payload\":{\"click_context\":\"REPOSITORY_CARD\",\"click_target\":\"REPOSITORY\",\"click_visual_representation\":\"CODE_TAB\",\"actor_id\":null,\"record_id\":343965132,\"originating_url\":\"https://github.com/topics/machine-learning\",\"user_id\":null}}' data-hydro-click-hmac=\"760d19e20be3f8861bfbfbc09bc13387db9cf93003371ca93c4afb9603fac47e\" data-turbo=\"false\" data-view-component=\"true\" href=\"/microsoft/ML-For-Beginners\" id=\"code-tab-343965132\">\n",
       "<svg aria-hidden=\"true\" class=\"octicon octicon-code color-fg-default\" data-view-component=\"true\" height=\"16\" version=\"1.1\" viewbox=\"0 0 16 16\" width=\"16\">\n",
       "<path d=\"m11.28 3.22 4.25 4.25a.75.75 0 0 1 0 1.06l-4.25 4.25a.749.749 0 0 1-1.275-.326.749.749 0 0 1 .215-.734L13.94 8l-3.72-3.72a.749.749 0 0 1 .326-1.275.749.749 0 0 1 .734.215Zm-6.56 0a.751.751 0 0 1 1.042.018.751.751 0 0 1 .018 1.042L2.06 8l3.72 3.72a.749.749 0 0 1-.326 1.275.749.749 0 0 1-.734-.215L.47 8.53a.75.75 0 0 1 0-1.06Z\"></path>\n",
       "</svg> Code\n",
       "\n",
       "    \n",
       "</a></li>\n",
       "<li class=\"d-inline-flex\" data-view-component=\"true\">\n",
       "<a class=\"tabnav-tab f6 px-2 py-1\" data-hydro-click='{\"event_type\":\"explore.click\",\"payload\":{\"click_context\":\"REPOSITORY_CARD\",\"click_target\":\"REPOSITORY_ISSUES\",\"click_visual_representation\":\"ISSUES_TAB\",\"actor_id\":null,\"record_id\":343965132,\"originating_url\":\"https://github.com/topics/machine-learning\",\"user_id\":null}}' data-hydro-click-hmac=\"8cb99edcf3190aff4c872287958c5f89ba6c9072af244ca999248bc2fa2e01e8\" data-turbo=\"false\" data-view-component=\"true\" href=\"/microsoft/ML-For-Beginners/issues\" id=\"issues-tab-343965132\">\n",
       "<svg aria-hidden=\"true\" class=\"octicon octicon-issue-opened color-fg-muted\" data-view-component=\"true\" height=\"16\" version=\"1.1\" viewbox=\"0 0 16 16\" width=\"16\">\n",
       "<path d=\"M8 9.5a1.5 1.5 0 1 0 0-3 1.5 1.5 0 0 0 0 3Z\"></path><path d=\"M8 0a8 8 0 1 1 0 16A8 8 0 0 1 8 0ZM1.5 8a6.5 6.5 0 1 0 13 0 6.5 6.5 0 0 0-13 0Z\"></path>\n",
       "</svg> Issues\n",
       "\n",
       "    \n",
       "</a></li>\n",
       "<li class=\"d-inline-flex\" data-view-component=\"true\">\n",
       "<a class=\"tabnav-tab f6 px-2 py-1\" data-hydro-click='{\"event_type\":\"explore.click\",\"payload\":{\"click_context\":\"REPOSITORY_CARD\",\"click_target\":\"REPOSITORY_PULL_REQUESTS\",\"click_visual_representation\":\"PULL_REQUESTS_TAB\",\"actor_id\":null,\"record_id\":343965132,\"originating_url\":\"https://github.com/topics/machine-learning\",\"user_id\":null}}' data-hydro-click-hmac=\"31e3707e59c8f8ff7676021f536643d5fbed671e20c09a99516026608857d016\" data-turbo=\"false\" data-view-component=\"true\" href=\"/microsoft/ML-For-Beginners/pulls\" id=\"pull-requests-tab-343965132\">\n",
       "<svg aria-hidden=\"true\" class=\"octicon octicon-git-pull-request color-fg-muted\" data-view-component=\"true\" height=\"16\" version=\"1.1\" viewbox=\"0 0 16 16\" width=\"16\">\n",
       "<path d=\"M1.5 3.25a2.25 2.25 0 1 1 3 2.122v5.256a2.251 2.251 0 1 1-1.5 0V5.372A2.25 2.25 0 0 1 1.5 3.25Zm5.677-.177L9.573.677A.25.25 0 0 1 10 .854V2.5h1A2.5 2.5 0 0 1 13.5 5v5.628a2.251 2.251 0 1 1-1.5 0V5a1 1 0 0 0-1-1h-1v1.646a.25.25 0 0 1-.427.177L7.177 3.427a.25.25 0 0 1 0-.354ZM3.75 2.5a.75.75 0 1 0 0 1.5.75.75 0 0 0 0-1.5Zm0 9.5a.75.75 0 1 0 0 1.5.75.75 0 0 0 0-1.5Zm8.25.75a.75.75 0 1 0 1.5 0 .75.75 0 0 0-1.5 0Z\"></path>\n",
       "</svg> Pull requests\n",
       "\n",
       "    \n",
       "</a></li>\n",
       "<li class=\"d-inline-flex\" data-view-component=\"true\">\n",
       "<a class=\"tabnav-tab f6 px-2 py-1\" data-hydro-click='{\"event_type\":\"explore.click\",\"payload\":{\"click_context\":\"REPOSITORY_CARD\",\"click_target\":\"REPOSITORY_DISCUSSIONS\",\"click_visual_representation\":\"DISCUSSIONS_TAB\",\"actor_id\":null,\"record_id\":343965132,\"originating_url\":\"https://github.com/topics/machine-learning\",\"user_id\":null}}' data-hydro-click-hmac=\"a65a4f2c9e44975a472ceb328b51d1bdaee8c1154fe2d93dc8c470ab467004ce\" data-turbo=\"false\" data-view-component=\"true\" href=\"/microsoft/ML-For-Beginners/discussions\" id=\"discussions-tab-343965132\">\n",
       "<svg aria-hidden=\"true\" class=\"octicon octicon-comment-discussion color-fg-muted\" data-view-component=\"true\" height=\"16\" version=\"1.1\" viewbox=\"0 0 16 16\" width=\"16\">\n",
       "<path d=\"M1.75 1h8.5c.966 0 1.75.784 1.75 1.75v5.5A1.75 1.75 0 0 1 10.25 10H7.061l-2.574 2.573A1.458 1.458 0 0 1 2 11.543V10h-.25A1.75 1.75 0 0 1 0 8.25v-5.5C0 1.784.784 1 1.75 1ZM1.5 2.75v5.5c0 .138.112.25.25.25h1a.75.75 0 0 1 .75.75v2.19l2.72-2.72a.749.749 0 0 1 .53-.22h3.5a.25.25 0 0 0 .25-.25v-5.5a.25.25 0 0 0-.25-.25h-8.5a.25.25 0 0 0-.25.25Zm13 2a.25.25 0 0 0-.25-.25h-.5a.75.75 0 0 1 0-1.5h.5c.966 0 1.75.784 1.75 1.75v5.5A1.75 1.75 0 0 1 14.25 12H14v1.543a1.458 1.458 0 0 1-2.487 1.03L9.22 12.28a.749.749 0 0 1 .326-1.275.749.749 0 0 1 .734.215l2.22 2.22v-2.19a.75.75 0 0 1 .75-.75h1a.25.25 0 0 0 .25-.25Z\"></path>\n",
       "</svg> Discussions\n",
       "\n",
       "    \n",
       "</a></li>\n",
       "</ul>\n",
       "</nav>\n",
       "<div class=\"color-bg-default rounded-bottom-2\">\n",
       "<div class=\"px-3 pt-3\">\n",
       "<p class=\"color-fg-muted mb-0\">12 weeks, 26 lessons, 52 quizzes, classic Machine Learning for all</p>\n",
       "</div>\n",
       "<div class=\"d-flex flex-wrap border-bottom color-border-muted px-3 pt-2 pb-2\">\n",
       "<a class=\"topic-tag topic-tag-link Link f6 mb-2\" data-hydro-click='{\"event_type\":\"explore.click\",\"payload\":{\"click_context\":\"REPOSITORY_CARD\",\"click_target\":\"TOPIC\",\"click_visual_representation\":\"TOPIC_TAG\",\"actor_id\":null,\"record_id\":84,\"originating_url\":\"https://github.com/topics/machine-learning\",\"user_id\":null}}' data-hydro-click-hmac=\"b109101bb4837bfa71872d3f91cc233ca504d3e4440b852b496504cb2ef4ce1e\" data-view-component=\"true\" href=\"/topics/python\" title=\"Topic: python\">\n",
       "            python\n",
       "</a> <a class=\"topic-tag topic-tag-link Link f6 mb-2\" data-hydro-click='{\"event_type\":\"explore.click\",\"payload\":{\"click_context\":\"REPOSITORY_CARD\",\"click_target\":\"TOPIC\",\"click_visual_representation\":\"TOPIC_TAG\",\"actor_id\":null,\"record_id\":486,\"originating_url\":\"https://github.com/topics/machine-learning\",\"user_id\":null}}' data-hydro-click-hmac=\"35d2103152b5ca0a43592b2a736ec626ddc25d3814eb0efac4300fcc2263a858\" data-view-component=\"true\" href=\"/topics/education\" title=\"Topic: education\">\n",
       "            education\n",
       "</a> <a class=\"topic-tag topic-tag-link Link f6 mb-2\" data-hydro-click='{\"event_type\":\"explore.click\",\"payload\":{\"click_context\":\"REPOSITORY_CARD\",\"click_target\":\"TOPIC\",\"click_visual_representation\":\"TOPIC_TAG\",\"actor_id\":null,\"record_id\":2129,\"originating_url\":\"https://github.com/topics/machine-learning\",\"user_id\":null}}' data-hydro-click-hmac=\"1d85bacfd8d90069b0b99e605fa8d43eeaf86526224cbc2bfabf61b6e150d1d5\" data-view-component=\"true\" href=\"/topics/data-science\" title=\"Topic: data-science\">\n",
       "            data-science\n",
       "</a> <a class=\"topic-tag topic-tag-link Link f6 mb-2\" data-hydro-click='{\"event_type\":\"explore.click\",\"payload\":{\"click_context\":\"REPOSITORY_CARD\",\"click_target\":\"TOPIC\",\"click_visual_representation\":\"TOPIC_TAG\",\"actor_id\":null,\"record_id\":2169,\"originating_url\":\"https://github.com/topics/machine-learning\",\"user_id\":null}}' data-hydro-click-hmac=\"6d5abc3bcec58036e59195af83f61e3ccf347b7a4c7ad55a3fef28e9bb031443\" data-view-component=\"true\" href=\"/topics/machine-learning\" title=\"Topic: machine-learning\">\n",
       "            machine-learning\n",
       "</a> <a class=\"topic-tag topic-tag-link Link f6 mb-2\" data-hydro-click='{\"event_type\":\"explore.click\",\"payload\":{\"click_context\":\"REPOSITORY_CARD\",\"click_target\":\"TOPIC\",\"click_visual_representation\":\"TOPIC_TAG\",\"actor_id\":null,\"record_id\":7525,\"originating_url\":\"https://github.com/topics/machine-learning\",\"user_id\":null}}' data-hydro-click-hmac=\"78094ac39c79159588e271c0ae13909e7fa0294342fdf1a7b418d43b75484c1a\" data-view-component=\"true\" href=\"/topics/r\" title=\"Topic: r\">\n",
       "            r\n",
       "</a> <a class=\"topic-tag topic-tag-link Link f6 mb-2\" data-hydro-click='{\"event_type\":\"explore.click\",\"payload\":{\"click_context\":\"REPOSITORY_CARD\",\"click_target\":\"TOPIC\",\"click_visual_representation\":\"TOPIC_TAG\",\"actor_id\":null,\"record_id\":13856,\"originating_url\":\"https://github.com/topics/machine-learning\",\"user_id\":null}}' data-hydro-click-hmac=\"2c164ae15cce2cb75d399d9ec0d349efe8a19a77d12b98c6823e27b3bdac5cc3\" data-view-component=\"true\" href=\"/topics/scikit-learn\" title=\"Topic: scikit-learn\">\n",
       "            scikit-learn\n",
       "</a> <a class=\"topic-tag topic-tag-link Link f6 mb-2\" data-hydro-click='{\"event_type\":\"explore.click\",\"payload\":{\"click_context\":\"REPOSITORY_CARD\",\"click_target\":\"TOPIC\",\"click_visual_representation\":\"TOPIC_TAG\",\"actor_id\":null,\"record_id\":14080,\"originating_url\":\"https://github.com/topics/machine-learning\",\"user_id\":null}}' data-hydro-click-hmac=\"1eb516f8a2a0a7b1aaaa9b188a616fbb58e9d0ad0a66b1ce623bd5540542413c\" data-view-component=\"true\" href=\"/topics/machine-learning-algorithms\" title=\"Topic: machine-learning-algorithms\">\n",
       "            machine-learning-algorithms\n",
       "</a> <a class=\"topic-tag topic-tag-link Link f6 mb-2\" data-hydro-click='{\"event_type\":\"explore.click\",\"payload\":{\"click_context\":\"REPOSITORY_CARD\",\"click_target\":\"TOPIC\",\"click_visual_representation\":\"TOPIC_TAG\",\"actor_id\":null,\"record_id\":21229,\"originating_url\":\"https://github.com/topics/machine-learning\",\"user_id\":null}}' data-hydro-click-hmac=\"83558aefac496895f94d12e73e35bb63688a076cf42d943781f08caff231d550\" data-view-component=\"true\" href=\"/topics/ml\" title=\"Topic: ml\">\n",
       "            ml\n",
       "</a> <a class=\"topic-tag topic-tag-link Link f6 mb-2\" data-hydro-click='{\"event_type\":\"explore.click\",\"payload\":{\"click_context\":\"REPOSITORY_CARD\",\"click_target\":\"TOPIC\",\"click_visual_representation\":\"TOPIC_TAG\",\"actor_id\":null,\"record_id\":75122,\"originating_url\":\"https://github.com/topics/machine-learning\",\"user_id\":null}}' data-hydro-click-hmac=\"bd15078375d5f7cf14131d1861ea3d006a467bbe05facb371f23643a75a3d606\" data-view-component=\"true\" href=\"/topics/machinelearning\" title=\"Topic: machinelearning\">\n",
       "            machinelearning\n",
       "</a> <a class=\"topic-tag topic-tag-link Link f6 mb-2\" data-hydro-click='{\"event_type\":\"explore.click\",\"payload\":{\"click_context\":\"REPOSITORY_CARD\",\"click_target\":\"TOPIC\",\"click_visual_representation\":\"TOPIC_TAG\",\"actor_id\":null,\"record_id\":737607,\"originating_url\":\"https://github.com/topics/machine-learning\",\"user_id\":null}}' data-hydro-click-hmac=\"172ddae1e7ffc56ec4c1b16983910869196467e47450727a2066a68191ffdafb\" data-view-component=\"true\" href=\"/topics/machinelearning-python\" title=\"Topic: machinelearning-python\">\n",
       "            machinelearning-python\n",
       "</a> <a class=\"topic-tag topic-tag-link Link f6 mb-2\" data-hydro-click='{\"event_type\":\"explore.click\",\"payload\":{\"click_context\":\"REPOSITORY_CARD\",\"click_target\":\"TOPIC\",\"click_visual_representation\":\"TOPIC_TAG\",\"actor_id\":null,\"record_id\":895482,\"originating_url\":\"https://github.com/topics/machine-learning\",\"user_id\":null}}' data-hydro-click-hmac=\"7852f5e1a30eb6cc5ec961c6df896268396b30df6acb5d2f34382912539f125f\" data-view-component=\"true\" href=\"/topics/scikit-learn-python\" title=\"Topic: scikit-learn-python\">\n",
       "            scikit-learn-python\n",
       "</a> </div>\n",
       "<div class=\"p-3\">\n",
       "<ul class=\"d-flex f6 list-style-none color-fg-muted\">\n",
       "<li class=\"mr-4\">\n",
       "            Updated\n",
       "            <relative-time class=\"no-wrap\" datetime=\"2023-12-19T05:48:09Z\">Dec 19, 2023</relative-time>\n",
       "</li>\n",
       "<li class=\"mr-4\">\n",
       "<span class=\"f6 my-1 ml-0\">\n",
       "<span class=\"repo-language-color\" style=\"background-color: #e34c26\"></span>\n",
       "<span itemprop=\"programmingLanguage\">HTML</span>\n",
       "</span>\n",
       "</li>\n",
       "</ul>\n",
       "</div>\n",
       "</div>\n",
       "</article>"
      ]
     },
     "execution_count": 75,
     "metadata": {},
     "output_type": "execute_result"
    }
   ],
   "source": [
    "article_tag= article_tags[4]\n",
    "article_tag"
   ]
  },
  {
   "cell_type": "markdown",
   "id": "e86db230",
   "metadata": {},
   "source": [
    "Let's retrieve the first h1 inside an article."
   ]
  },
  {
   "cell_type": "code",
   "execution_count": 76,
   "id": "cd568aca",
   "metadata": {},
   "outputs": [
    {
     "data": {
      "text/plain": [
       "<h3 class=\"f3 color-fg-muted text-normal lh-condensed\">\n",
       "<a class=\"Link\" data-hydro-click='{\"event_type\":\"explore.click\",\"payload\":{\"click_context\":\"REPOSITORY_CARD\",\"click_target\":\"OWNER\",\"click_visual_representation\":\"REPOSITORY_OWNER_HEADING\",\"actor_id\":null,\"record_id\":6154722,\"originating_url\":\"https://github.com/topics/machine-learning\",\"user_id\":null}}' data-hydro-click-hmac=\"ce7c1880986fcc5cf78fd675165bf59f7da7919ad46e02c6c4ca45011e1f6f97\" data-turbo=\"false\" data-view-component=\"true\" href=\"/microsoft\">\n",
       "            microsoft\n",
       "</a>          /\n",
       "          <a class=\"Link text-bold wb-break-word\" data-hydro-click='{\"event_type\":\"explore.click\",\"payload\":{\"click_context\":\"REPOSITORY_CARD\",\"click_target\":\"REPOSITORY\",\"click_visual_representation\":\"REPOSITORY_NAME_HEADING\",\"actor_id\":null,\"record_id\":343965132,\"originating_url\":\"https://github.com/topics/machine-learning\",\"user_id\":null}}' data-hydro-click-hmac=\"04eb0a73e352b25eddc48d7faa71ca594c32afbf1c64f09e38e88a5abed6eee7\" data-turbo=\"false\" data-view-component=\"true\" href=\"/microsoft/ML-For-Beginners\">\n",
       "            ML-For-Beginners\n",
       "</a> </h3>"
      ]
     },
     "execution_count": 76,
     "metadata": {},
     "output_type": "execute_result"
    }
   ],
   "source": [
    "h3_tag = article_tag.find('h3')\n",
    "h3_tag"
   ]
  },
  {
   "cell_type": "markdown",
   "id": "9563bce3",
   "metadata": {},
   "source": [
    "The h1 has a tags inside it, one containing the owner's username and the second containing the repository title. The href of the second tag also includes the relative path of the repository. Let's extract this information from the a tags."
   ]
  },
  {
   "cell_type": "code",
   "execution_count": 77,
   "id": "984b29d4",
   "metadata": {},
   "outputs": [
    {
     "data": {
      "text/plain": [
       "[<a class=\"Link\" data-hydro-click='{\"event_type\":\"explore.click\",\"payload\":{\"click_context\":\"REPOSITORY_CARD\",\"click_target\":\"OWNER\",\"click_visual_representation\":\"REPOSITORY_OWNER_HEADING\",\"actor_id\":null,\"record_id\":6154722,\"originating_url\":\"https://github.com/topics/machine-learning\",\"user_id\":null}}' data-hydro-click-hmac=\"ce7c1880986fcc5cf78fd675165bf59f7da7919ad46e02c6c4ca45011e1f6f97\" data-turbo=\"false\" data-view-component=\"true\" href=\"/microsoft\">\n",
       "             microsoft\n",
       " </a>,\n",
       " <a class=\"Link text-bold wb-break-word\" data-hydro-click='{\"event_type\":\"explore.click\",\"payload\":{\"click_context\":\"REPOSITORY_CARD\",\"click_target\":\"REPOSITORY\",\"click_visual_representation\":\"REPOSITORY_NAME_HEADING\",\"actor_id\":null,\"record_id\":343965132,\"originating_url\":\"https://github.com/topics/machine-learning\",\"user_id\":null}}' data-hydro-click-hmac=\"04eb0a73e352b25eddc48d7faa71ca594c32afbf1c64f09e38e88a5abed6eee7\" data-turbo=\"false\" data-view-component=\"true\" href=\"/microsoft/ML-For-Beginners\">\n",
       "             ML-For-Beginners\n",
       " </a>]"
      ]
     },
     "execution_count": 77,
     "metadata": {},
     "output_type": "execute_result"
    }
   ],
   "source": [
    "a_tags = h3_tag.find_all('a', recursive= False)\n",
    "a_tags"
   ]
  },
  {
   "cell_type": "code",
   "execution_count": 78,
   "id": "5b5982ba",
   "metadata": {},
   "outputs": [
    {
     "data": {
      "text/plain": [
       "'\\n            microsoft\\n'"
      ]
     },
     "execution_count": 78,
     "metadata": {},
     "output_type": "execute_result"
    }
   ],
   "source": [
    "username = a_tags[0].text\n",
    "username"
   ]
  },
  {
   "cell_type": "code",
   "execution_count": 79,
   "id": "229b59e3",
   "metadata": {},
   "outputs": [
    {
     "data": {
      "text/plain": [
       "'microsoft'"
      ]
     },
     "execution_count": 79,
     "metadata": {},
     "output_type": "execute_result"
    }
   ],
   "source": [
    "username = a_tags[0].text.strip()\n",
    "username"
   ]
  },
  {
   "cell_type": "code",
   "execution_count": 80,
   "id": "3ca5b42a",
   "metadata": {},
   "outputs": [
    {
     "data": {
      "text/plain": [
       "'ML-For-Beginners'"
      ]
     },
     "execution_count": 80,
     "metadata": {},
     "output_type": "execute_result"
    }
   ],
   "source": [
    "repo_name = a_tags[1].text.strip()\n",
    "repo_name"
   ]
  },
  {
   "cell_type": "code",
   "execution_count": 81,
   "id": "a3c121bd",
   "metadata": {},
   "outputs": [
    {
     "data": {
      "text/plain": [
       "'/microsoft/ML-For-Beginners'"
      ]
     },
     "execution_count": 81,
     "metadata": {},
     "output_type": "execute_result"
    }
   ],
   "source": [
    "repo_link = a_tags[1]['href'].strip()\n",
    "repo_link"
   ]
  },
  {
   "cell_type": "markdown",
   "id": "f301c7a1",
   "metadata": {},
   "source": [
    "To get the full URL to the repository, we can append the base URL https://github.com at the beginning of the path."
   ]
  },
  {
   "cell_type": "code",
   "execution_count": 82,
   "id": "e35f2420",
   "metadata": {},
   "outputs": [
    {
     "data": {
      "text/plain": [
       "'https://github.com/microsoft/ML-For-Beginners'"
      ]
     },
     "execution_count": 82,
     "metadata": {},
     "output_type": "execute_result"
    }
   ],
   "source": [
    "base_url = 'https://github.com'\n",
    "repo_url = base_url + repo_link\n",
    "repo_url"
   ]
  },
  {
   "cell_type": "markdown",
   "id": "d3c44622",
   "metadata": {},
   "source": [
    "Next, to get the number of starts, we notice that it is contained within an span tag which has the count Counter js-social-count."
   ]
  },
  {
   "cell_type": "code",
   "execution_count": 83,
   "id": "21a6b51d",
   "metadata": {},
   "outputs": [
    {
     "data": {
      "text/plain": [
       "<article class=\"border rounded color-shadow-small color-bg-subtle my-4\">\n",
       "<a class=\"overflow-hidden flex-items-center rounded-top-2 Link color-border-muted border-bottom d-flex position-relative\" data-hydro-click='{\"event_type\":\"explore.click\",\"payload\":{\"click_context\":\"REPOSITORY_CARD\",\"click_target\":\"REPOSITORY\",\"click_visual_representation\":\"REPOSITORY_IMAGE\",\"actor_id\":null,\"record_id\":343965132,\"originating_url\":\"https://github.com/topics/machine-learning\",\"user_id\":null}}' data-hydro-click-hmac=\"c911d4e221d5b78abbd94601cfa8880fb22ee6b844c2d4de0f8a969d63e38a3f\" data-turbo=\"false\" data-view-component=\"true\" href=\"/microsoft/ML-For-Beginners\" style=\"max-height:275px\">\n",
       "<img alt=\"ML-For-Beginners\" class=\"d-block width-full\" loading=\"lazy\" src=\"https://repository-images.githubusercontent.com/343965132/549b1a80-c897-11eb-9436-918072d2e0f8\"/>\n",
       "</a>\n",
       "<div class=\"px-3\">\n",
       "<div class=\"d-flex flex-justify-between flex-items-start flex-wrap gap-2 my-3\">\n",
       "<div class=\"d-flex flex-1\">\n",
       "<span style=\"margin-top:2px\">\n",
       "<svg aria-hidden=\"true\" class=\"octicon octicon-repo color-fg-muted mr-2\" data-view-component=\"true\" height=\"16\" version=\"1.1\" viewbox=\"0 0 16 16\" width=\"16\">\n",
       "<path d=\"M2 2.5A2.5 2.5 0 0 1 4.5 0h8.75a.75.75 0 0 1 .75.75v12.5a.75.75 0 0 1-.75.75h-2.5a.75.75 0 0 1 0-1.5h1.75v-2h-8a1 1 0 0 0-.714 1.7.75.75 0 1 1-1.072 1.05A2.495 2.495 0 0 1 2 11.5Zm10.5-1h-8a1 1 0 0 0-1 1v6.708A2.486 2.486 0 0 1 4.5 9h8ZM5 12.25a.25.25 0 0 1 .25-.25h3.5a.25.25 0 0 1 .25.25v3.25a.25.25 0 0 1-.4.2l-1.45-1.087a.249.249 0 0 0-.3 0L5.4 15.7a.25.25 0 0 1-.4-.2Z\"></path>\n",
       "</svg>\n",
       "</span>\n",
       "<h3 class=\"f3 color-fg-muted text-normal lh-condensed\">\n",
       "<a class=\"Link\" data-hydro-click='{\"event_type\":\"explore.click\",\"payload\":{\"click_context\":\"REPOSITORY_CARD\",\"click_target\":\"OWNER\",\"click_visual_representation\":\"REPOSITORY_OWNER_HEADING\",\"actor_id\":null,\"record_id\":6154722,\"originating_url\":\"https://github.com/topics/machine-learning\",\"user_id\":null}}' data-hydro-click-hmac=\"ce7c1880986fcc5cf78fd675165bf59f7da7919ad46e02c6c4ca45011e1f6f97\" data-turbo=\"false\" data-view-component=\"true\" href=\"/microsoft\">\n",
       "            microsoft\n",
       "</a>          /\n",
       "          <a class=\"Link text-bold wb-break-word\" data-hydro-click='{\"event_type\":\"explore.click\",\"payload\":{\"click_context\":\"REPOSITORY_CARD\",\"click_target\":\"REPOSITORY\",\"click_visual_representation\":\"REPOSITORY_NAME_HEADING\",\"actor_id\":null,\"record_id\":343965132,\"originating_url\":\"https://github.com/topics/machine-learning\",\"user_id\":null}}' data-hydro-click-hmac=\"04eb0a73e352b25eddc48d7faa71ca594c32afbf1c64f09e38e88a5abed6eee7\" data-turbo=\"false\" data-view-component=\"true\" href=\"/microsoft/ML-For-Beginners\">\n",
       "            ML-For-Beginners\n",
       "</a> </h3>\n",
       "</div>\n",
       "<div class=\"d-flex flex-items-center\">\n",
       "<div class=\"BtnGroup d-flex\" data-view-component=\"true\">\n",
       "<a aria-label=\"You must be signed in to star a repository\" class=\"tooltipped tooltipped-s btn-sm btn BtnGroup-item color-bg-default\" data-hydro-click='{\"event_type\":\"authentication.click\",\"payload\":{\"location_in_page\":\"star button\",\"repository_id\":343965132,\"auth_type\":\"LOG_IN\",\"originating_url\":\"https://github.com/topics/machine-learning\",\"user_id\":null}}' data-hydro-click-hmac=\"845f2fc2372f54cb0161c07c1a99707b276393cfc598f8a09c7839c3ac1c00c1\" data-view-component=\"true\" href=\"/login?return_to=%2Fmicrosoft%2FML-For-Beginners\" rel=\"nofollow\"> <svg aria-hidden=\"true\" class=\"octicon octicon-star v-align-text-bottom d-inline-block mr-2\" data-view-component=\"true\" height=\"16\" version=\"1.1\" viewbox=\"0 0 16 16\" width=\"16\">\n",
       "<path d=\"M8 .25a.75.75 0 0 1 .673.418l1.882 3.815 4.21.612a.75.75 0 0 1 .416 1.279l-3.046 2.97.719 4.192a.751.751 0 0 1-1.088.791L8 12.347l-3.766 1.98a.75.75 0 0 1-1.088-.79l.72-4.194L.818 6.374a.75.75 0 0 1 .416-1.28l4.21-.611L7.327.668A.75.75 0 0 1 8 .25Zm0 2.445L6.615 5.5a.75.75 0 0 1-.564.41l-3.097.45 2.24 2.184a.75.75 0 0 1 .216.664l-.528 3.084 2.769-1.456a.75.75 0 0 1 .698 0l2.77 1.456-.53-3.084a.75.75 0 0 1 .216-.664l2.24-2.183-3.096-.45a.75.75 0 0 1-.564-.41L8 2.694Z\"></path>\n",
       "</svg><span class=\"d-inline\" data-view-component=\"true\">\n",
       "          Star\n",
       "</span> <span aria-label=\"63431 users starred this repository\" class=\"Counter js-social-count\" data-plural-suffix=\"users starred this repository\" data-singular-suffix=\"user starred this repository\" data-turbo-replace=\"true\" data-view-component=\"true\" id=\"repo-stars-counter-star\" title=\"63,431\">63.4k</span>\n",
       "</a> <button aria-label=\"You must be signed in to add this repository to a list\" class=\"btn-sm btn BtnGroup-item px-2\" data-view-component=\"true\" disabled=\"disabled\" type=\"button\"> <svg aria-hidden=\"true\" class=\"octicon octicon-triangle-down\" data-view-component=\"true\" height=\"16\" version=\"1.1\" viewbox=\"0 0 16 16\" width=\"16\">\n",
       "<path d=\"m4.427 7.427 3.396 3.396a.25.25 0 0 0 .354 0l3.396-3.396A.25.25 0 0 0 11.396 7H4.604a.25.25 0 0 0-.177.427Z\"></path>\n",
       "</svg>\n",
       "</button></div>\n",
       "</div>\n",
       "</div>\n",
       "</div>\n",
       "<nav aria-label=\"Repository menu\" class=\"tabnav px-3 mb-0\" data-view-component=\"true\">\n",
       "<ul class=\"tabnav-tabs\" data-view-component=\"true\">\n",
       "<li class=\"d-inline-flex\" data-view-component=\"true\">\n",
       "<a aria-current=\"true\" class=\"tabnav-tab f6 px-2 py-1\" data-hydro-click='{\"event_type\":\"explore.click\",\"payload\":{\"click_context\":\"REPOSITORY_CARD\",\"click_target\":\"REPOSITORY\",\"click_visual_representation\":\"CODE_TAB\",\"actor_id\":null,\"record_id\":343965132,\"originating_url\":\"https://github.com/topics/machine-learning\",\"user_id\":null}}' data-hydro-click-hmac=\"760d19e20be3f8861bfbfbc09bc13387db9cf93003371ca93c4afb9603fac47e\" data-turbo=\"false\" data-view-component=\"true\" href=\"/microsoft/ML-For-Beginners\" id=\"code-tab-343965132\">\n",
       "<svg aria-hidden=\"true\" class=\"octicon octicon-code color-fg-default\" data-view-component=\"true\" height=\"16\" version=\"1.1\" viewbox=\"0 0 16 16\" width=\"16\">\n",
       "<path d=\"m11.28 3.22 4.25 4.25a.75.75 0 0 1 0 1.06l-4.25 4.25a.749.749 0 0 1-1.275-.326.749.749 0 0 1 .215-.734L13.94 8l-3.72-3.72a.749.749 0 0 1 .326-1.275.749.749 0 0 1 .734.215Zm-6.56 0a.751.751 0 0 1 1.042.018.751.751 0 0 1 .018 1.042L2.06 8l3.72 3.72a.749.749 0 0 1-.326 1.275.749.749 0 0 1-.734-.215L.47 8.53a.75.75 0 0 1 0-1.06Z\"></path>\n",
       "</svg> Code\n",
       "\n",
       "    \n",
       "</a></li>\n",
       "<li class=\"d-inline-flex\" data-view-component=\"true\">\n",
       "<a class=\"tabnav-tab f6 px-2 py-1\" data-hydro-click='{\"event_type\":\"explore.click\",\"payload\":{\"click_context\":\"REPOSITORY_CARD\",\"click_target\":\"REPOSITORY_ISSUES\",\"click_visual_representation\":\"ISSUES_TAB\",\"actor_id\":null,\"record_id\":343965132,\"originating_url\":\"https://github.com/topics/machine-learning\",\"user_id\":null}}' data-hydro-click-hmac=\"8cb99edcf3190aff4c872287958c5f89ba6c9072af244ca999248bc2fa2e01e8\" data-turbo=\"false\" data-view-component=\"true\" href=\"/microsoft/ML-For-Beginners/issues\" id=\"issues-tab-343965132\">\n",
       "<svg aria-hidden=\"true\" class=\"octicon octicon-issue-opened color-fg-muted\" data-view-component=\"true\" height=\"16\" version=\"1.1\" viewbox=\"0 0 16 16\" width=\"16\">\n",
       "<path d=\"M8 9.5a1.5 1.5 0 1 0 0-3 1.5 1.5 0 0 0 0 3Z\"></path><path d=\"M8 0a8 8 0 1 1 0 16A8 8 0 0 1 8 0ZM1.5 8a6.5 6.5 0 1 0 13 0 6.5 6.5 0 0 0-13 0Z\"></path>\n",
       "</svg> Issues\n",
       "\n",
       "    \n",
       "</a></li>\n",
       "<li class=\"d-inline-flex\" data-view-component=\"true\">\n",
       "<a class=\"tabnav-tab f6 px-2 py-1\" data-hydro-click='{\"event_type\":\"explore.click\",\"payload\":{\"click_context\":\"REPOSITORY_CARD\",\"click_target\":\"REPOSITORY_PULL_REQUESTS\",\"click_visual_representation\":\"PULL_REQUESTS_TAB\",\"actor_id\":null,\"record_id\":343965132,\"originating_url\":\"https://github.com/topics/machine-learning\",\"user_id\":null}}' data-hydro-click-hmac=\"31e3707e59c8f8ff7676021f536643d5fbed671e20c09a99516026608857d016\" data-turbo=\"false\" data-view-component=\"true\" href=\"/microsoft/ML-For-Beginners/pulls\" id=\"pull-requests-tab-343965132\">\n",
       "<svg aria-hidden=\"true\" class=\"octicon octicon-git-pull-request color-fg-muted\" data-view-component=\"true\" height=\"16\" version=\"1.1\" viewbox=\"0 0 16 16\" width=\"16\">\n",
       "<path d=\"M1.5 3.25a2.25 2.25 0 1 1 3 2.122v5.256a2.251 2.251 0 1 1-1.5 0V5.372A2.25 2.25 0 0 1 1.5 3.25Zm5.677-.177L9.573.677A.25.25 0 0 1 10 .854V2.5h1A2.5 2.5 0 0 1 13.5 5v5.628a2.251 2.251 0 1 1-1.5 0V5a1 1 0 0 0-1-1h-1v1.646a.25.25 0 0 1-.427.177L7.177 3.427a.25.25 0 0 1 0-.354ZM3.75 2.5a.75.75 0 1 0 0 1.5.75.75 0 0 0 0-1.5Zm0 9.5a.75.75 0 1 0 0 1.5.75.75 0 0 0 0-1.5Zm8.25.75a.75.75 0 1 0 1.5 0 .75.75 0 0 0-1.5 0Z\"></path>\n",
       "</svg> Pull requests\n",
       "\n",
       "    \n",
       "</a></li>\n",
       "<li class=\"d-inline-flex\" data-view-component=\"true\">\n",
       "<a class=\"tabnav-tab f6 px-2 py-1\" data-hydro-click='{\"event_type\":\"explore.click\",\"payload\":{\"click_context\":\"REPOSITORY_CARD\",\"click_target\":\"REPOSITORY_DISCUSSIONS\",\"click_visual_representation\":\"DISCUSSIONS_TAB\",\"actor_id\":null,\"record_id\":343965132,\"originating_url\":\"https://github.com/topics/machine-learning\",\"user_id\":null}}' data-hydro-click-hmac=\"a65a4f2c9e44975a472ceb328b51d1bdaee8c1154fe2d93dc8c470ab467004ce\" data-turbo=\"false\" data-view-component=\"true\" href=\"/microsoft/ML-For-Beginners/discussions\" id=\"discussions-tab-343965132\">\n",
       "<svg aria-hidden=\"true\" class=\"octicon octicon-comment-discussion color-fg-muted\" data-view-component=\"true\" height=\"16\" version=\"1.1\" viewbox=\"0 0 16 16\" width=\"16\">\n",
       "<path d=\"M1.75 1h8.5c.966 0 1.75.784 1.75 1.75v5.5A1.75 1.75 0 0 1 10.25 10H7.061l-2.574 2.573A1.458 1.458 0 0 1 2 11.543V10h-.25A1.75 1.75 0 0 1 0 8.25v-5.5C0 1.784.784 1 1.75 1ZM1.5 2.75v5.5c0 .138.112.25.25.25h1a.75.75 0 0 1 .75.75v2.19l2.72-2.72a.749.749 0 0 1 .53-.22h3.5a.25.25 0 0 0 .25-.25v-5.5a.25.25 0 0 0-.25-.25h-8.5a.25.25 0 0 0-.25.25Zm13 2a.25.25 0 0 0-.25-.25h-.5a.75.75 0 0 1 0-1.5h.5c.966 0 1.75.784 1.75 1.75v5.5A1.75 1.75 0 0 1 14.25 12H14v1.543a1.458 1.458 0 0 1-2.487 1.03L9.22 12.28a.749.749 0 0 1 .326-1.275.749.749 0 0 1 .734.215l2.22 2.22v-2.19a.75.75 0 0 1 .75-.75h1a.25.25 0 0 0 .25-.25Z\"></path>\n",
       "</svg> Discussions\n",
       "\n",
       "    \n",
       "</a></li>\n",
       "</ul>\n",
       "</nav>\n",
       "<div class=\"color-bg-default rounded-bottom-2\">\n",
       "<div class=\"px-3 pt-3\">\n",
       "<p class=\"color-fg-muted mb-0\">12 weeks, 26 lessons, 52 quizzes, classic Machine Learning for all</p>\n",
       "</div>\n",
       "<div class=\"d-flex flex-wrap border-bottom color-border-muted px-3 pt-2 pb-2\">\n",
       "<a class=\"topic-tag topic-tag-link Link f6 mb-2\" data-hydro-click='{\"event_type\":\"explore.click\",\"payload\":{\"click_context\":\"REPOSITORY_CARD\",\"click_target\":\"TOPIC\",\"click_visual_representation\":\"TOPIC_TAG\",\"actor_id\":null,\"record_id\":84,\"originating_url\":\"https://github.com/topics/machine-learning\",\"user_id\":null}}' data-hydro-click-hmac=\"b109101bb4837bfa71872d3f91cc233ca504d3e4440b852b496504cb2ef4ce1e\" data-view-component=\"true\" href=\"/topics/python\" title=\"Topic: python\">\n",
       "            python\n",
       "</a> <a class=\"topic-tag topic-tag-link Link f6 mb-2\" data-hydro-click='{\"event_type\":\"explore.click\",\"payload\":{\"click_context\":\"REPOSITORY_CARD\",\"click_target\":\"TOPIC\",\"click_visual_representation\":\"TOPIC_TAG\",\"actor_id\":null,\"record_id\":486,\"originating_url\":\"https://github.com/topics/machine-learning\",\"user_id\":null}}' data-hydro-click-hmac=\"35d2103152b5ca0a43592b2a736ec626ddc25d3814eb0efac4300fcc2263a858\" data-view-component=\"true\" href=\"/topics/education\" title=\"Topic: education\">\n",
       "            education\n",
       "</a> <a class=\"topic-tag topic-tag-link Link f6 mb-2\" data-hydro-click='{\"event_type\":\"explore.click\",\"payload\":{\"click_context\":\"REPOSITORY_CARD\",\"click_target\":\"TOPIC\",\"click_visual_representation\":\"TOPIC_TAG\",\"actor_id\":null,\"record_id\":2129,\"originating_url\":\"https://github.com/topics/machine-learning\",\"user_id\":null}}' data-hydro-click-hmac=\"1d85bacfd8d90069b0b99e605fa8d43eeaf86526224cbc2bfabf61b6e150d1d5\" data-view-component=\"true\" href=\"/topics/data-science\" title=\"Topic: data-science\">\n",
       "            data-science\n",
       "</a> <a class=\"topic-tag topic-tag-link Link f6 mb-2\" data-hydro-click='{\"event_type\":\"explore.click\",\"payload\":{\"click_context\":\"REPOSITORY_CARD\",\"click_target\":\"TOPIC\",\"click_visual_representation\":\"TOPIC_TAG\",\"actor_id\":null,\"record_id\":2169,\"originating_url\":\"https://github.com/topics/machine-learning\",\"user_id\":null}}' data-hydro-click-hmac=\"6d5abc3bcec58036e59195af83f61e3ccf347b7a4c7ad55a3fef28e9bb031443\" data-view-component=\"true\" href=\"/topics/machine-learning\" title=\"Topic: machine-learning\">\n",
       "            machine-learning\n",
       "</a> <a class=\"topic-tag topic-tag-link Link f6 mb-2\" data-hydro-click='{\"event_type\":\"explore.click\",\"payload\":{\"click_context\":\"REPOSITORY_CARD\",\"click_target\":\"TOPIC\",\"click_visual_representation\":\"TOPIC_TAG\",\"actor_id\":null,\"record_id\":7525,\"originating_url\":\"https://github.com/topics/machine-learning\",\"user_id\":null}}' data-hydro-click-hmac=\"78094ac39c79159588e271c0ae13909e7fa0294342fdf1a7b418d43b75484c1a\" data-view-component=\"true\" href=\"/topics/r\" title=\"Topic: r\">\n",
       "            r\n",
       "</a> <a class=\"topic-tag topic-tag-link Link f6 mb-2\" data-hydro-click='{\"event_type\":\"explore.click\",\"payload\":{\"click_context\":\"REPOSITORY_CARD\",\"click_target\":\"TOPIC\",\"click_visual_representation\":\"TOPIC_TAG\",\"actor_id\":null,\"record_id\":13856,\"originating_url\":\"https://github.com/topics/machine-learning\",\"user_id\":null}}' data-hydro-click-hmac=\"2c164ae15cce2cb75d399d9ec0d349efe8a19a77d12b98c6823e27b3bdac5cc3\" data-view-component=\"true\" href=\"/topics/scikit-learn\" title=\"Topic: scikit-learn\">\n",
       "            scikit-learn\n",
       "</a> <a class=\"topic-tag topic-tag-link Link f6 mb-2\" data-hydro-click='{\"event_type\":\"explore.click\",\"payload\":{\"click_context\":\"REPOSITORY_CARD\",\"click_target\":\"TOPIC\",\"click_visual_representation\":\"TOPIC_TAG\",\"actor_id\":null,\"record_id\":14080,\"originating_url\":\"https://github.com/topics/machine-learning\",\"user_id\":null}}' data-hydro-click-hmac=\"1eb516f8a2a0a7b1aaaa9b188a616fbb58e9d0ad0a66b1ce623bd5540542413c\" data-view-component=\"true\" href=\"/topics/machine-learning-algorithms\" title=\"Topic: machine-learning-algorithms\">\n",
       "            machine-learning-algorithms\n",
       "</a> <a class=\"topic-tag topic-tag-link Link f6 mb-2\" data-hydro-click='{\"event_type\":\"explore.click\",\"payload\":{\"click_context\":\"REPOSITORY_CARD\",\"click_target\":\"TOPIC\",\"click_visual_representation\":\"TOPIC_TAG\",\"actor_id\":null,\"record_id\":21229,\"originating_url\":\"https://github.com/topics/machine-learning\",\"user_id\":null}}' data-hydro-click-hmac=\"83558aefac496895f94d12e73e35bb63688a076cf42d943781f08caff231d550\" data-view-component=\"true\" href=\"/topics/ml\" title=\"Topic: ml\">\n",
       "            ml\n",
       "</a> <a class=\"topic-tag topic-tag-link Link f6 mb-2\" data-hydro-click='{\"event_type\":\"explore.click\",\"payload\":{\"click_context\":\"REPOSITORY_CARD\",\"click_target\":\"TOPIC\",\"click_visual_representation\":\"TOPIC_TAG\",\"actor_id\":null,\"record_id\":75122,\"originating_url\":\"https://github.com/topics/machine-learning\",\"user_id\":null}}' data-hydro-click-hmac=\"bd15078375d5f7cf14131d1861ea3d006a467bbe05facb371f23643a75a3d606\" data-view-component=\"true\" href=\"/topics/machinelearning\" title=\"Topic: machinelearning\">\n",
       "            machinelearning\n",
       "</a> <a class=\"topic-tag topic-tag-link Link f6 mb-2\" data-hydro-click='{\"event_type\":\"explore.click\",\"payload\":{\"click_context\":\"REPOSITORY_CARD\",\"click_target\":\"TOPIC\",\"click_visual_representation\":\"TOPIC_TAG\",\"actor_id\":null,\"record_id\":737607,\"originating_url\":\"https://github.com/topics/machine-learning\",\"user_id\":null}}' data-hydro-click-hmac=\"172ddae1e7ffc56ec4c1b16983910869196467e47450727a2066a68191ffdafb\" data-view-component=\"true\" href=\"/topics/machinelearning-python\" title=\"Topic: machinelearning-python\">\n",
       "            machinelearning-python\n",
       "</a> <a class=\"topic-tag topic-tag-link Link f6 mb-2\" data-hydro-click='{\"event_type\":\"explore.click\",\"payload\":{\"click_context\":\"REPOSITORY_CARD\",\"click_target\":\"TOPIC\",\"click_visual_representation\":\"TOPIC_TAG\",\"actor_id\":null,\"record_id\":895482,\"originating_url\":\"https://github.com/topics/machine-learning\",\"user_id\":null}}' data-hydro-click-hmac=\"7852f5e1a30eb6cc5ec961c6df896268396b30df6acb5d2f34382912539f125f\" data-view-component=\"true\" href=\"/topics/scikit-learn-python\" title=\"Topic: scikit-learn-python\">\n",
       "            scikit-learn-python\n",
       "</a> </div>\n",
       "<div class=\"p-3\">\n",
       "<ul class=\"d-flex f6 list-style-none color-fg-muted\">\n",
       "<li class=\"mr-4\">\n",
       "            Updated\n",
       "            <relative-time class=\"no-wrap\" datetime=\"2023-12-19T05:48:09Z\">Dec 19, 2023</relative-time>\n",
       "</li>\n",
       "<li class=\"mr-4\">\n",
       "<span class=\"f6 my-1 ml-0\">\n",
       "<span class=\"repo-language-color\" style=\"background-color: #e34c26\"></span>\n",
       "<span itemprop=\"programmingLanguage\">HTML</span>\n",
       "</span>\n",
       "</li>\n",
       "</ul>\n",
       "</div>\n",
       "</div>\n",
       "</article>"
      ]
     },
     "execution_count": 83,
     "metadata": {},
     "output_type": "execute_result"
    }
   ],
   "source": [
    "article_tags[4]"
   ]
  },
  {
   "cell_type": "code",
   "execution_count": 84,
   "id": "02d62e67",
   "metadata": {},
   "outputs": [
    {
     "data": {
      "text/plain": [
       "<span aria-label=\"63431 users starred this repository\" class=\"Counter js-social-count\" data-plural-suffix=\"users starred this repository\" data-singular-suffix=\"user starred this repository\" data-turbo-replace=\"true\" data-view-component=\"true\" id=\"repo-stars-counter-star\" title=\"63,431\">63.4k</span>"
      ]
     },
     "execution_count": 84,
     "metadata": {},
     "output_type": "execute_result"
    }
   ],
   "source": [
    "a_star_tag = article_tags[4].find('span', class_= 'Counter js-social-count')\n",
    "a_star_tag"
   ]
  },
  {
   "cell_type": "code",
   "execution_count": 85,
   "id": "6c229ccb",
   "metadata": {},
   "outputs": [
    {
     "data": {
      "text/plain": [
       "'63.4k'"
      ]
     },
     "execution_count": 85,
     "metadata": {},
     "output_type": "execute_result"
    }
   ],
   "source": [
    "a_star_tag.text.strip()\n"
   ]
  },
  {
   "cell_type": "markdown",
   "id": "6a0c5488",
   "metadata": {},
   "source": [
    "The k at the end indicates 1000. Let's write a helper function which can convert strings like 63.3k into the number 63,300."
   ]
  },
  {
   "cell_type": "code",
   "execution_count": 86,
   "id": "d6253745",
   "metadata": {},
   "outputs": [],
   "source": [
    "def parse_star_count(stars_str):\n",
    "    stars_str = stars_str.strip()\n",
    "    if stars_str[-1] == 'k':\n",
    "        return int(float(stars_str[:-1]) * 1000)\n",
    "    else:\n",
    "        return int(stars_str)"
   ]
  },
  {
   "cell_type": "code",
   "execution_count": 87,
   "id": "609fccc3",
   "metadata": {},
   "outputs": [
    {
     "data": {
      "text/plain": [
       "63300"
      ]
     },
     "execution_count": 87,
     "metadata": {},
     "output_type": "execute_result"
    }
   ],
   "source": [
    "parse_star_count('63.3k')"
   ]
  },
  {
   "cell_type": "code",
   "execution_count": 88,
   "id": "7b3efff3",
   "metadata": {},
   "outputs": [
    {
     "data": {
      "text/plain": [
       "63400"
      ]
     },
     "execution_count": 88,
     "metadata": {},
     "output_type": "execute_result"
    }
   ],
   "source": [
    "star_count = parse_star_count(a_star_tag.text.strip())\n",
    "star_count"
   ]
  },
  {
   "cell_type": "markdown",
   "id": "7e227bb3",
   "metadata": {},
   "source": [
    "Now, we have extracted all the information we were interested in "
   ]
  },
  {
   "cell_type": "code",
   "execution_count": 89,
   "id": "af1d63e2",
   "metadata": {},
   "outputs": [
    {
     "name": "stdout",
     "output_type": "stream",
     "text": [
      "Repository Name:  ML-For-Beginners\n",
      "Owner's UserName:  microsoft\n",
      "Stars:  63400\n",
      "Repository URL:  https://github.com/microsoft/ML-For-Beginners\n"
     ]
    }
   ],
   "source": [
    "print('Repository Name: ', repo_name)\n",
    "print(\"Owner's UserName: \", username)\n",
    "print('Stars: ' , star_count)\n",
    "print('Repository URL: ', repo_url)"
   ]
  },
  {
   "cell_type": "markdown",
   "id": "a1893fb8",
   "metadata": {},
   "source": [
    "QUESTION: Write a function parse_repostory that returns a dictionary containing the repository name, owner's username, number of stars, and repository URL by parsing a given article tag representing a repository."
   ]
  },
  {
   "cell_type": "code",
   "execution_count": 90,
   "id": "80ccac39",
   "metadata": {},
   "outputs": [],
   "source": [
    "def parse_repository(article_tag):\n",
    "    # <a> tags containing username, repository name and URl \n",
    "    a_tags = article_tag.h3.find_all('a')\n",
    "    # Owner's User name\n",
    "    username = a_tags[0].text.strip()\n",
    "    # Repository name \n",
    "    repo_name = a_tags[1].text.strip()\n",
    "    # Repository URL\n",
    "    repo_url = base_url + a_tags[1]['href'].strip()\n",
    "    # Star Count \n",
    "    star_tag = article_tag.find('span', class_='Counter js-social-count')\n",
    "    star_count = parse_star_count(star_tag.text.strip())\n",
    "    # Return a dictionary \n",
    "    return {\n",
    "        'Repository Name': repo_name,\n",
    "        'Owner_UserName' : username,\n",
    "        'Stars' : star_count,\n",
    "        'Repository_url': repo_url\n",
    "    }"
   ]
  },
  {
   "cell_type": "code",
   "execution_count": 91,
   "id": "148353d1",
   "metadata": {},
   "outputs": [
    {
     "data": {
      "text/plain": [
       "{'Repository Name': 'ML-For-Beginners',\n",
       " 'Owner_UserName': 'microsoft',\n",
       " 'Stars': 63400,\n",
       " 'Repository_url': 'https://github.com/microsoft/ML-For-Beginners'}"
      ]
     },
     "execution_count": 91,
     "metadata": {},
     "output_type": "execute_result"
    }
   ],
   "source": [
    "parse_repository(article_tags[4])\n",
    "\n"
   ]
  },
  {
   "cell_type": "code",
   "execution_count": 92,
   "id": "55f82b0e",
   "metadata": {},
   "outputs": [
    {
     "data": {
      "text/plain": [
       "{'Repository Name': 'tensorflow',\n",
       " 'Owner_UserName': 'tensorflow',\n",
       " 'Stars': 180000,\n",
       " 'Repository_url': 'https://github.com/tensorflow/tensorflow'}"
      ]
     },
     "execution_count": 92,
     "metadata": {},
     "output_type": "execute_result"
    }
   ],
   "source": [
    "parse_repository(article_tags[0])"
   ]
  },
  {
   "cell_type": "code",
   "execution_count": 93,
   "id": "fe6acadb",
   "metadata": {},
   "outputs": [
    {
     "data": {
      "text/plain": [
       "{'Repository Name': 'face_recognition',\n",
       " 'Owner_UserName': 'ageitgey',\n",
       " 'Stars': 50600,\n",
       " 'Repository_url': 'https://github.com/ageitgey/face_recognition'}"
      ]
     },
     "execution_count": 93,
     "metadata": {},
     "output_type": "execute_result"
    }
   ],
   "source": [
    "parse_repository(article_tags[10])"
   ]
  },
  {
   "cell_type": "markdown",
   "id": "e3a20f62",
   "metadata": {},
   "source": [
    "We can use a list comprehension to parse all the article tags in one go."
   ]
  },
  {
   "cell_type": "code",
   "execution_count": 94,
   "id": "6fa1a084",
   "metadata": {},
   "outputs": [],
   "source": [
    "top_repositories = [parse_repository(tag) for tag in article_tags]"
   ]
  },
  {
   "cell_type": "code",
   "execution_count": 95,
   "id": "fed100e3",
   "metadata": {},
   "outputs": [
    {
     "data": {
      "text/plain": [
       "20"
      ]
     },
     "execution_count": 95,
     "metadata": {},
     "output_type": "execute_result"
    }
   ],
   "source": [
    "len(top_repositories)"
   ]
  },
  {
   "cell_type": "code",
   "execution_count": 96,
   "id": "5a1abb81",
   "metadata": {},
   "outputs": [
    {
     "data": {
      "text/plain": [
       "[{'Repository Name': 'tensorflow',\n",
       "  'Owner_UserName': 'tensorflow',\n",
       "  'Stars': 180000,\n",
       "  'Repository_url': 'https://github.com/tensorflow/tensorflow'},\n",
       " {'Repository Name': 'transformers',\n",
       "  'Owner_UserName': 'huggingface',\n",
       "  'Stars': 118000,\n",
       "  'Repository_url': 'https://github.com/huggingface/transformers'},\n",
       " {'Repository Name': 'pytorch',\n",
       "  'Owner_UserName': 'pytorch',\n",
       "  'Stars': 73900,\n",
       "  'Repository_url': 'https://github.com/pytorch/pytorch'},\n",
       " {'Repository Name': 'netdata',\n",
       "  'Owner_UserName': 'netdata',\n",
       "  'Stars': 66500,\n",
       "  'Repository_url': 'https://github.com/netdata/netdata'},\n",
       " {'Repository Name': 'ML-For-Beginners',\n",
       "  'Owner_UserName': 'microsoft',\n",
       "  'Stars': 63400,\n",
       "  'Repository_url': 'https://github.com/microsoft/ML-For-Beginners'},\n",
       " {'Repository Name': 'cs-video-courses',\n",
       "  'Owner_UserName': 'Developer-Y',\n",
       "  'Stars': 62700,\n",
       "  'Repository_url': 'https://github.com/Developer-Y/cs-video-courses'},\n",
       " {'Repository Name': 'keras',\n",
       "  'Owner_UserName': 'keras-team',\n",
       "  'Stars': 60100,\n",
       "  'Repository_url': 'https://github.com/keras-team/keras'},\n",
       " {'Repository Name': 'scikit-learn',\n",
       "  'Owner_UserName': 'scikit-learn',\n",
       "  'Stars': 56900,\n",
       "  'Repository_url': 'https://github.com/scikit-learn/scikit-learn'},\n",
       " {'Repository Name': 'tesseract',\n",
       "  'Owner_UserName': 'tesseract-ocr',\n",
       "  'Stars': 55500,\n",
       "  'Repository_url': 'https://github.com/tesseract-ocr/tesseract'},\n",
       " {'Repository Name': 'd2l-zh',\n",
       "  'Owner_UserName': 'd2l-ai',\n",
       "  'Stars': 52500,\n",
       "  'Repository_url': 'https://github.com/d2l-ai/d2l-zh'}]"
      ]
     },
     "execution_count": 96,
     "metadata": {},
     "output_type": "execute_result"
    }
   ],
   "source": [
    "top_repositories[:10]"
   ]
  },
  {
   "cell_type": "markdown",
   "id": "368def19",
   "metadata": {},
   "source": [
    "QUESTION: \n",
    "Write a function that takes a BeautifulSoup object representing a topic page and returns a list of dictionaries containing information about the top repositories for the topic."
   ]
  },
  {
   "cell_type": "code",
   "execution_count": 97,
   "id": "602093aa",
   "metadata": {},
   "outputs": [],
   "source": [
    "def get_top_repositories(doc):\n",
    "    article_tags = doc.find_all('article', class_= 'border rounded color-shadow-small color-bg-subtle my-4')\n",
    "    topic_repos = [parse_repository(tag) for tag in article_tags]\n",
    "    return topic_repos"
   ]
  },
  {
   "cell_type": "markdown",
   "id": "5ec7d536",
   "metadata": {},
   "source": [
    "We can now use the functions we've defined to get the top repositories for any topic."
   ]
  },
  {
   "cell_type": "code",
   "execution_count": 98,
   "id": "0955205a",
   "metadata": {
    "scrolled": true
   },
   "outputs": [
    {
     "data": {
      "text/plain": [
       "[{'Repository Name': 'tensorflow',\n",
       "  'Owner_UserName': 'tensorflow',\n",
       "  'Stars': 180000,\n",
       "  'Repository_url': 'https://github.com/tensorflow/tensorflow'},\n",
       " {'Repository Name': 'transformers',\n",
       "  'Owner_UserName': 'huggingface',\n",
       "  'Stars': 118000,\n",
       "  'Repository_url': 'https://github.com/huggingface/transformers'},\n",
       " {'Repository Name': 'pytorch',\n",
       "  'Owner_UserName': 'pytorch',\n",
       "  'Stars': 73900,\n",
       "  'Repository_url': 'https://github.com/pytorch/pytorch'},\n",
       " {'Repository Name': 'netdata',\n",
       "  'Owner_UserName': 'netdata',\n",
       "  'Stars': 66500,\n",
       "  'Repository_url': 'https://github.com/netdata/netdata'},\n",
       " {'Repository Name': 'ML-For-Beginners',\n",
       "  'Owner_UserName': 'microsoft',\n",
       "  'Stars': 63400,\n",
       "  'Repository_url': 'https://github.com/microsoft/ML-For-Beginners'}]"
      ]
     },
     "execution_count": 98,
     "metadata": {},
     "output_type": "execute_result"
    }
   ],
   "source": [
    "topic_page_ml = get_topic_page('machine-learning')\n",
    "top_repos_ml = get_top_repositories(topic_page_ml)\n",
    "top_repos_ml[:5]"
   ]
  },
  {
   "cell_type": "markdown",
   "id": "5963dd84",
   "metadata": {},
   "source": [
    "Here are the top repositories for the keyword data-analysis."
   ]
  },
  {
   "cell_type": "code",
   "execution_count": 99,
   "id": "d9980087",
   "metadata": {},
   "outputs": [
    {
     "data": {
      "text/plain": [
       "[{'Repository Name': 'tensorflow',\n",
       "  'Owner_UserName': 'tensorflow',\n",
       "  'Stars': 180000,\n",
       "  'Repository_url': 'https://github.com/tensorflow/tensorflow'},\n",
       " {'Repository Name': 'transformers',\n",
       "  'Owner_UserName': 'huggingface',\n",
       "  'Stars': 118000,\n",
       "  'Repository_url': 'https://github.com/huggingface/transformers'},\n",
       " {'Repository Name': 'pytorch',\n",
       "  'Owner_UserName': 'pytorch',\n",
       "  'Stars': 73900,\n",
       "  'Repository_url': 'https://github.com/pytorch/pytorch'},\n",
       " {'Repository Name': 'netdata',\n",
       "  'Owner_UserName': 'netdata',\n",
       "  'Stars': 66500,\n",
       "  'Repository_url': 'https://github.com/netdata/netdata'},\n",
       " {'Repository Name': 'ML-For-Beginners',\n",
       "  'Owner_UserName': 'microsoft',\n",
       "  'Stars': 63400,\n",
       "  'Repository_url': 'https://github.com/microsoft/ML-For-Beginners'}]"
      ]
     },
     "execution_count": 99,
     "metadata": {},
     "output_type": "execute_result"
    }
   ],
   "source": [
    "topic_page_da = get_topic_page('data-analysis')\n",
    "top_repos_da = get_top_repositories(topic_page_ml)\n",
    "top_repos_da[:5]"
   ]
  },
  {
   "cell_type": "markdown",
   "id": "43c09fdd",
   "metadata": {},
   "source": [
    "Here are the top repositories for the keyword python"
   ]
  },
  {
   "cell_type": "code",
   "execution_count": 100,
   "id": "8f6478a2",
   "metadata": {},
   "outputs": [
    {
     "data": {
      "text/plain": [
       "[{'Repository Name': 'system-design-primer',\n",
       "  'Owner_UserName': 'donnemartin',\n",
       "  'Stars': 238000,\n",
       "  'Repository_url': 'https://github.com/donnemartin/system-design-primer'},\n",
       " {'Repository Name': 'awesome-python',\n",
       "  'Owner_UserName': 'vinta',\n",
       "  'Stars': 192000,\n",
       "  'Repository_url': 'https://github.com/vinta/awesome-python'},\n",
       " {'Repository Name': 'tensorflow',\n",
       "  'Owner_UserName': 'tensorflow',\n",
       "  'Stars': 180000,\n",
       "  'Repository_url': 'https://github.com/tensorflow/tensorflow'},\n",
       " {'Repository Name': 'Python',\n",
       "  'Owner_UserName': 'TheAlgorithms',\n",
       "  'Stars': 174000,\n",
       "  'Repository_url': 'https://github.com/TheAlgorithms/Python'},\n",
       " {'Repository Name': 'CS-Notes',\n",
       "  'Owner_UserName': 'CyC2018',\n",
       "  'Stars': 169000,\n",
       "  'Repository_url': 'https://github.com/CyC2018/CS-Notes'}]"
      ]
     },
     "execution_count": 100,
     "metadata": {},
     "output_type": "execute_result"
    }
   ],
   "source": [
    "get_top_repositories(get_topic_page('python'))[:5]"
   ]
  },
  {
   "cell_type": "markdown",
   "id": "09c91692",
   "metadata": {},
   "source": [
    "#### Writing information to CSV files\n",
    "\n",
    "\n",
    "Let's create a helper function which takes a list of dictionaries and writes them to a CSV file.\n",
    "\n",
    "The input to our function will be a list of dictionary of the form:"
   ]
  },
  {
   "cell_type": "markdown",
   "id": "746c9fce",
   "metadata": {},
   "source": [
    "[\n",
    "  {'key1': 'abc', 'key2': 'def', 'key3': 'ghi'},\n",
    "  {'key1': 'jkl', 'key2': 'mno', 'key3': 'pqr'},\n",
    "  {'key1': 'stu', 'key2': 'vwx', 'key3': 'yza'}\n",
    "  ...\n",
    "]\n",
    "\n",
    "\n",
    "\n",
    "The function will create a file with a given name containing the following data:\n",
    "\n",
    "\n",
    "\n",
    "key1,key2,key3\n",
    "abc,def,ghi\n",
    "jkl,mno,pqr\n",
    "stu,vwx,yza"
   ]
  },
  {
   "cell_type": "code",
   "execution_count": 101,
   "id": "c126ab01",
   "metadata": {},
   "outputs": [],
   "source": [
    "def write_csv(items, path):\n",
    "    # Open the file in write mode\n",
    "    with open(path,'w') as f:\n",
    "        # Return if there's noting to write\n",
    "        if len(items) == 0:\n",
    "            return\n",
    "        # Write the header in the firts line \n",
    "        headers = list(items[0].keys())\n",
    "        f.write(','.join(headers) + '\\n')\n",
    "        \n",
    "        # Write one item per line \n",
    "        for item in items:\n",
    "            values = []\n",
    "            for header in headers:\n",
    "                values.append(str(item.get(header, \"\")))\n",
    "            f.write(','.join(values) + \"\\n\")\n",
    "        "
   ]
  },
  {
   "cell_type": "markdown",
   "id": "38d2534d",
   "metadata": {},
   "source": [
    "Let's write the data stored in top_repos_ml into a CSV file."
   ]
  },
  {
   "cell_type": "code",
   "execution_count": 102,
   "id": "16b16e9d",
   "metadata": {},
   "outputs": [
    {
     "data": {
      "text/plain": [
       "20"
      ]
     },
     "execution_count": 102,
     "metadata": {},
     "output_type": "execute_result"
    }
   ],
   "source": [
    "len(top_repos_ml)"
   ]
  },
  {
   "cell_type": "code",
   "execution_count": 103,
   "id": "020455bd",
   "metadata": {},
   "outputs": [],
   "source": [
    "write_csv(top_repositories, 'machine-learning.csv')"
   ]
  },
  {
   "cell_type": "markdown",
   "id": "c9cd5a94",
   "metadata": {},
   "source": [
    "We can now read the file and inspect its contents. The contents of the file can also be inspected using the \"File > Open\" menu option within Jupyter.##"
   ]
  },
  {
   "cell_type": "code",
   "execution_count": 104,
   "id": "95095c2f",
   "metadata": {},
   "outputs": [
    {
     "data": {
      "text/plain": [
       "[{'Repository Name': 'tensorflow',\n",
       "  'Owner_UserName': 'tensorflow',\n",
       "  'Stars': 180000,\n",
       "  'Repository_url': 'https://github.com/tensorflow/tensorflow'},\n",
       " {'Repository Name': 'transformers',\n",
       "  'Owner_UserName': 'huggingface',\n",
       "  'Stars': 118000,\n",
       "  'Repository_url': 'https://github.com/huggingface/transformers'},\n",
       " {'Repository Name': 'pytorch',\n",
       "  'Owner_UserName': 'pytorch',\n",
       "  'Stars': 73900,\n",
       "  'Repository_url': 'https://github.com/pytorch/pytorch'}]"
      ]
     },
     "execution_count": 104,
     "metadata": {},
     "output_type": "execute_result"
    }
   ],
   "source": [
    "top_repos_ml[:3]"
   ]
  },
  {
   "cell_type": "code",
   "execution_count": 105,
   "id": "caeb420a",
   "metadata": {},
   "outputs": [
    {
     "name": "stdout",
     "output_type": "stream",
     "text": [
      "Repository Name,Owner_UserName,Stars,Repository_url\n",
      "tensorflow,tensorflow,180000,https://github.com/tensorflow/tensorflow\n",
      "transformers,huggingface,118000,https://github.com/huggingface/transformers\n",
      "pytorch,pytorch,73900,https://github.com/pytorch/pytorch\n",
      "netdata,netdata,66500,https://github.com/netdata/netdata\n",
      "ML-For-Beginners,microsoft,63400,https://github.com/microsoft/ML-For-Beginners\n",
      "cs-video-courses,Developer-Y,62700,https://github.com/Developer-Y/cs-video-courses\n",
      "keras,keras-team,60100,https://github.com/keras-team/keras\n",
      "scikit-learn,scikit-learn,56900,https://github.com/scikit-learn/scikit-learn\n",
      "tesseract,tesseract-ocr,55500,https://github.com/tesseract-ocr/tesseract\n",
      "d2l-zh,d2l-ai,52500,https://github.com/d2l-ai/d2l-zh\n",
      "face_recognition,ageitgey,50600,https://github.com/ageitgey/face_recognition\n",
      "awesome-scalability,binhnguyennus,50200,https://github.com/binhnguyennus/awesome-scalability\n",
      "faceswap,deepfakes,48000,https://github.com/deepfakes/faceswap\n",
      "yolov5,ultralytics,44200,https://github.com/ultralytics/yolov5\n",
      "DeepFaceLab,iperov,43900,https://github.com/iperov/DeepFaceLab\n",
      "julia,JuliaLang,43800,https://github.com/JuliaLang/julia\n",
      "TensorFlow-Examples,aymericdamien,43100,https://github.com/aymericdamien/TensorFlow-Examples\n",
      "100-Days-Of-ML-Code,Avik-Jain,42400,https://github.com/Avik-Jain/100-Days-Of-ML-Code\n",
      "annotated_deep_learning_paper_implementations,labmlai,40900,https://github.com/labmlai/annotated_deep_learning_paper_implementations\n",
      "Open-Assistant,LAION-AI,36000,https://github.com/LAION-AI/Open-Assistant\n",
      "\n"
     ]
    }
   ],
   "source": [
    "with open('machine-learning.csv', 'r') as f:\n",
    "    print(f.read())"
   ]
  },
  {
   "cell_type": "markdown",
   "id": "656ccee1",
   "metadata": {},
   "source": [
    "QUESTION: Write a Python function that creates a CSV file (comma-separated values) containing details about the 25 top GitHub repositories for any given topic. The top repositories for the topic machine-learning can be found on this page: https://github.com/topics/machine-learning. The output CSV should contain these details: repository name, owner's username, no. of stars, repository URL."
   ]
  },
  {
   "cell_type": "code",
   "execution_count": 106,
   "id": "890db589",
   "metadata": {},
   "outputs": [],
   "source": [
    "import requests\n",
    "from bs4 import BeautifulSoup\n",
    "base_url = 'https://github.com'\n",
    "\n",
    "def scrape_topic_repositories(topic, path=None):\n",
    "    \"\"\"Get the top repositories for a topic and write them to a CSV file\"\"\"\n",
    "    if path is None:\n",
    "        path = topic + '.csv'\n",
    "    topic_page_doc = get_topic_page(topic)\n",
    "    topic_repositories = get_top_repositories(topic_page_doc)\n",
    "    write_csv(topic_repositories, path)\n",
    "    print('Top repositories for topic \"{}\" written to file \"{}\"'.format(topic, path))\n",
    "    return path\n",
    "\n",
    "def get_top_repositories(doc):\n",
    "    \"\"\"Parse the top repositories for a topic given a Beautiful Soup document\"\"\"\n",
    "    article_tags = doc.find_all('article', class_='border rounded color-shadow-small color-bg-subtle my-4')\n",
    "    topic_repos = [parse_repository(tag) for tag in article_tags]\n",
    "    return topic_repos\n",
    "\n",
    "def get_topic_page(topic):\n",
    "    \"\"\"Get the web page containing the top repositories for a topic as a Beautiful Soup document\"\"\"\n",
    "    topic_repos_url = 'https://github.com/topics/' + topic\n",
    "    response = requests.get(topic_repos_url)\n",
    "    if response.status_code != 200:\n",
    "        print('Status code:', response.status_code)\n",
    "        raise Exception('Failed to fetch web page ' + topic_repos_url)\n",
    "    return BeautifulSoup(response.text)    \n",
    "\n",
    "def parse_repository(article_tag):\n",
    "    \"\"\"Parse information about a repository from an <article> tag\"\"\"\n",
    "    a_tags = article_tag.h3.find_all('a')\n",
    "    username = a_tags[0].text.strip()\n",
    "    repo_name = a_tags[1].text.strip()\n",
    "    repo_url = base_url + a_tags[1]['href'].strip()\n",
    "    stars_tag = article_tag.find('span', class_='Counter js-social-count')\n",
    "    star_count = parse_star_count(stars_tag.text.strip())\n",
    "    return {'repository_name': repo_name, 'owner_username': username, 'stars': star_count, 'repository_url': repo_url}\n",
    "\n",
    "def parse_star_count(stars_str):\n",
    "    \"\"\"Parse strings like 40.3k and get the no. of stars as a number\"\"\"\n",
    "    stars_str = stars_str.strip()\n",
    "    return int(float(stars_str[:-1]) * 1000) if stars_str[-1] == 'k' else int(stars_str)\n",
    "\n",
    "def write_csv(items, path):\n",
    "    \"\"\"Write a list of dictionaries to a CSV file\"\"\"\n",
    "    with open(path, 'w') as f:\n",
    "        if len(items) == 0:\n",
    "            return\n",
    "        headers = list(items[0].keys())\n",
    "        f.write(','.join(headers) + '\\n')\n",
    "        for item in items:\n",
    "            values = []\n",
    "            for header in headers:\n",
    "                values.append(str(item.get(header, \"\")))\n",
    "            f.write(','.join(values) + \"\\n\")"
   ]
  },
  {
   "cell_type": "code",
   "execution_count": 107,
   "id": "a29b10de",
   "metadata": {
    "scrolled": true
   },
   "outputs": [
    {
     "name": "stdout",
     "output_type": "stream",
     "text": [
      "Top repositories for topic \"machine-learning\" written to file \"machine-learning.csv\"\n"
     ]
    },
    {
     "data": {
      "text/plain": [
       "'machine-learning.csv'"
      ]
     },
     "execution_count": 107,
     "metadata": {},
     "output_type": "execute_result"
    }
   ],
   "source": [
    "scrape_topic_repositories('machine-learning')"
   ]
  },
  {
   "cell_type": "code",
   "execution_count": 108,
   "id": "73a97764",
   "metadata": {},
   "outputs": [],
   "source": [
    "import pandas as pd"
   ]
  },
  {
   "cell_type": "code",
   "execution_count": 109,
   "id": "1c8ba2c7",
   "metadata": {},
   "outputs": [
    {
     "data": {
      "text/html": [
       "<div>\n",
       "<style scoped>\n",
       "    .dataframe tbody tr th:only-of-type {\n",
       "        vertical-align: middle;\n",
       "    }\n",
       "\n",
       "    .dataframe tbody tr th {\n",
       "        vertical-align: top;\n",
       "    }\n",
       "\n",
       "    .dataframe thead th {\n",
       "        text-align: right;\n",
       "    }\n",
       "</style>\n",
       "<table border=\"1\" class=\"dataframe\">\n",
       "  <thead>\n",
       "    <tr style=\"text-align: right;\">\n",
       "      <th></th>\n",
       "      <th>repository_name</th>\n",
       "      <th>owner_username</th>\n",
       "      <th>stars</th>\n",
       "      <th>repository_url</th>\n",
       "    </tr>\n",
       "  </thead>\n",
       "  <tbody>\n",
       "    <tr>\n",
       "      <th>0</th>\n",
       "      <td>tensorflow</td>\n",
       "      <td>tensorflow</td>\n",
       "      <td>180000</td>\n",
       "      <td>https://github.com/tensorflow/tensorflow</td>\n",
       "    </tr>\n",
       "    <tr>\n",
       "      <th>1</th>\n",
       "      <td>transformers</td>\n",
       "      <td>huggingface</td>\n",
       "      <td>118000</td>\n",
       "      <td>https://github.com/huggingface/transformers</td>\n",
       "    </tr>\n",
       "    <tr>\n",
       "      <th>2</th>\n",
       "      <td>pytorch</td>\n",
       "      <td>pytorch</td>\n",
       "      <td>73900</td>\n",
       "      <td>https://github.com/pytorch/pytorch</td>\n",
       "    </tr>\n",
       "    <tr>\n",
       "      <th>3</th>\n",
       "      <td>netdata</td>\n",
       "      <td>netdata</td>\n",
       "      <td>66500</td>\n",
       "      <td>https://github.com/netdata/netdata</td>\n",
       "    </tr>\n",
       "    <tr>\n",
       "      <th>4</th>\n",
       "      <td>ML-For-Beginners</td>\n",
       "      <td>microsoft</td>\n",
       "      <td>63400</td>\n",
       "      <td>https://github.com/microsoft/ML-For-Beginners</td>\n",
       "    </tr>\n",
       "    <tr>\n",
       "      <th>5</th>\n",
       "      <td>cs-video-courses</td>\n",
       "      <td>Developer-Y</td>\n",
       "      <td>62700</td>\n",
       "      <td>https://github.com/Developer-Y/cs-video-courses</td>\n",
       "    </tr>\n",
       "    <tr>\n",
       "      <th>6</th>\n",
       "      <td>keras</td>\n",
       "      <td>keras-team</td>\n",
       "      <td>60100</td>\n",
       "      <td>https://github.com/keras-team/keras</td>\n",
       "    </tr>\n",
       "    <tr>\n",
       "      <th>7</th>\n",
       "      <td>scikit-learn</td>\n",
       "      <td>scikit-learn</td>\n",
       "      <td>56900</td>\n",
       "      <td>https://github.com/scikit-learn/scikit-learn</td>\n",
       "    </tr>\n",
       "    <tr>\n",
       "      <th>8</th>\n",
       "      <td>tesseract</td>\n",
       "      <td>tesseract-ocr</td>\n",
       "      <td>55500</td>\n",
       "      <td>https://github.com/tesseract-ocr/tesseract</td>\n",
       "    </tr>\n",
       "    <tr>\n",
       "      <th>9</th>\n",
       "      <td>d2l-zh</td>\n",
       "      <td>d2l-ai</td>\n",
       "      <td>52500</td>\n",
       "      <td>https://github.com/d2l-ai/d2l-zh</td>\n",
       "    </tr>\n",
       "    <tr>\n",
       "      <th>10</th>\n",
       "      <td>face_recognition</td>\n",
       "      <td>ageitgey</td>\n",
       "      <td>50600</td>\n",
       "      <td>https://github.com/ageitgey/face_recognition</td>\n",
       "    </tr>\n",
       "    <tr>\n",
       "      <th>11</th>\n",
       "      <td>awesome-scalability</td>\n",
       "      <td>binhnguyennus</td>\n",
       "      <td>50200</td>\n",
       "      <td>https://github.com/binhnguyennus/awesome-scala...</td>\n",
       "    </tr>\n",
       "    <tr>\n",
       "      <th>12</th>\n",
       "      <td>faceswap</td>\n",
       "      <td>deepfakes</td>\n",
       "      <td>48000</td>\n",
       "      <td>https://github.com/deepfakes/faceswap</td>\n",
       "    </tr>\n",
       "    <tr>\n",
       "      <th>13</th>\n",
       "      <td>yolov5</td>\n",
       "      <td>ultralytics</td>\n",
       "      <td>44200</td>\n",
       "      <td>https://github.com/ultralytics/yolov5</td>\n",
       "    </tr>\n",
       "    <tr>\n",
       "      <th>14</th>\n",
       "      <td>DeepFaceLab</td>\n",
       "      <td>iperov</td>\n",
       "      <td>43900</td>\n",
       "      <td>https://github.com/iperov/DeepFaceLab</td>\n",
       "    </tr>\n",
       "    <tr>\n",
       "      <th>15</th>\n",
       "      <td>julia</td>\n",
       "      <td>JuliaLang</td>\n",
       "      <td>43800</td>\n",
       "      <td>https://github.com/JuliaLang/julia</td>\n",
       "    </tr>\n",
       "    <tr>\n",
       "      <th>16</th>\n",
       "      <td>TensorFlow-Examples</td>\n",
       "      <td>aymericdamien</td>\n",
       "      <td>43100</td>\n",
       "      <td>https://github.com/aymericdamien/TensorFlow-Ex...</td>\n",
       "    </tr>\n",
       "    <tr>\n",
       "      <th>17</th>\n",
       "      <td>100-Days-Of-ML-Code</td>\n",
       "      <td>Avik-Jain</td>\n",
       "      <td>42400</td>\n",
       "      <td>https://github.com/Avik-Jain/100-Days-Of-ML-Code</td>\n",
       "    </tr>\n",
       "    <tr>\n",
       "      <th>18</th>\n",
       "      <td>annotated_deep_learning_paper_implementations</td>\n",
       "      <td>labmlai</td>\n",
       "      <td>40900</td>\n",
       "      <td>https://github.com/labmlai/annotated_deep_lear...</td>\n",
       "    </tr>\n",
       "    <tr>\n",
       "      <th>19</th>\n",
       "      <td>Open-Assistant</td>\n",
       "      <td>LAION-AI</td>\n",
       "      <td>36000</td>\n",
       "      <td>https://github.com/LAION-AI/Open-Assistant</td>\n",
       "    </tr>\n",
       "  </tbody>\n",
       "</table>\n",
       "</div>"
      ],
      "text/plain": [
       "                                  repository_name owner_username   stars  \\\n",
       "0                                      tensorflow     tensorflow  180000   \n",
       "1                                    transformers    huggingface  118000   \n",
       "2                                         pytorch        pytorch   73900   \n",
       "3                                         netdata        netdata   66500   \n",
       "4                                ML-For-Beginners      microsoft   63400   \n",
       "5                                cs-video-courses    Developer-Y   62700   \n",
       "6                                           keras     keras-team   60100   \n",
       "7                                    scikit-learn   scikit-learn   56900   \n",
       "8                                       tesseract  tesseract-ocr   55500   \n",
       "9                                          d2l-zh         d2l-ai   52500   \n",
       "10                               face_recognition       ageitgey   50600   \n",
       "11                            awesome-scalability  binhnguyennus   50200   \n",
       "12                                       faceswap      deepfakes   48000   \n",
       "13                                         yolov5    ultralytics   44200   \n",
       "14                                    DeepFaceLab         iperov   43900   \n",
       "15                                          julia      JuliaLang   43800   \n",
       "16                            TensorFlow-Examples  aymericdamien   43100   \n",
       "17                            100-Days-Of-ML-Code      Avik-Jain   42400   \n",
       "18  annotated_deep_learning_paper_implementations        labmlai   40900   \n",
       "19                                 Open-Assistant       LAION-AI   36000   \n",
       "\n",
       "                                       repository_url  \n",
       "0            https://github.com/tensorflow/tensorflow  \n",
       "1         https://github.com/huggingface/transformers  \n",
       "2                  https://github.com/pytorch/pytorch  \n",
       "3                  https://github.com/netdata/netdata  \n",
       "4       https://github.com/microsoft/ML-For-Beginners  \n",
       "5     https://github.com/Developer-Y/cs-video-courses  \n",
       "6                 https://github.com/keras-team/keras  \n",
       "7        https://github.com/scikit-learn/scikit-learn  \n",
       "8          https://github.com/tesseract-ocr/tesseract  \n",
       "9                    https://github.com/d2l-ai/d2l-zh  \n",
       "10       https://github.com/ageitgey/face_recognition  \n",
       "11  https://github.com/binhnguyennus/awesome-scala...  \n",
       "12              https://github.com/deepfakes/faceswap  \n",
       "13              https://github.com/ultralytics/yolov5  \n",
       "14              https://github.com/iperov/DeepFaceLab  \n",
       "15                 https://github.com/JuliaLang/julia  \n",
       "16  https://github.com/aymericdamien/TensorFlow-Ex...  \n",
       "17   https://github.com/Avik-Jain/100-Days-Of-ML-Code  \n",
       "18  https://github.com/labmlai/annotated_deep_lear...  \n",
       "19         https://github.com/LAION-AI/Open-Assistant  "
      ]
     },
     "execution_count": 109,
     "metadata": {},
     "output_type": "execute_result"
    }
   ],
   "source": [
    "ml=pd.read_csv('machine-learning.csv')\n",
    "ml"
   ]
  },
  {
   "cell_type": "code",
   "execution_count": 110,
   "id": "da518687",
   "metadata": {},
   "outputs": [
    {
     "name": "stdout",
     "output_type": "stream",
     "text": [
      "Top repositories for topic \"data-analysis\" written to file \"data-analysis.csv\"\n"
     ]
    },
    {
     "data": {
      "text/plain": [
       "'data-analysis.csv'"
      ]
     },
     "execution_count": 110,
     "metadata": {},
     "output_type": "execute_result"
    }
   ],
   "source": [
    "scrape_topic_repositories('data-analysis')"
   ]
  },
  {
   "cell_type": "markdown",
   "id": "9a1a48bc",
   "metadata": {},
   "source": [
    "Top repositories for topic \"data-analysis\" written to file \"data-analysis.csv\"\n",
    "'data-analysis.csv'"
   ]
  },
  {
   "cell_type": "code",
   "execution_count": 111,
   "id": "ef51d460",
   "metadata": {},
   "outputs": [
    {
     "data": {
      "text/html": [
       "<div>\n",
       "<style scoped>\n",
       "    .dataframe tbody tr th:only-of-type {\n",
       "        vertical-align: middle;\n",
       "    }\n",
       "\n",
       "    .dataframe tbody tr th {\n",
       "        vertical-align: top;\n",
       "    }\n",
       "\n",
       "    .dataframe thead th {\n",
       "        text-align: right;\n",
       "    }\n",
       "</style>\n",
       "<table border=\"1\" class=\"dataframe\">\n",
       "  <thead>\n",
       "    <tr style=\"text-align: right;\">\n",
       "      <th></th>\n",
       "      <th>repository_name</th>\n",
       "      <th>owner_username</th>\n",
       "      <th>stars</th>\n",
       "      <th>repository_url</th>\n",
       "    </tr>\n",
       "  </thead>\n",
       "  <tbody>\n",
       "    <tr>\n",
       "      <th>0</th>\n",
       "      <td>scikit-learn</td>\n",
       "      <td>scikit-learn</td>\n",
       "      <td>56900</td>\n",
       "      <td>https://github.com/scikit-learn/scikit-learn</td>\n",
       "    </tr>\n",
       "    <tr>\n",
       "      <th>1</th>\n",
       "      <td>superset</td>\n",
       "      <td>apache</td>\n",
       "      <td>55900</td>\n",
       "      <td>https://github.com/apache/superset</td>\n",
       "    </tr>\n",
       "    <tr>\n",
       "      <th>2</th>\n",
       "      <td>pandas</td>\n",
       "      <td>pandas-dev</td>\n",
       "      <td>40700</td>\n",
       "      <td>https://github.com/pandas-dev/pandas</td>\n",
       "    </tr>\n",
       "    <tr>\n",
       "      <th>3</th>\n",
       "      <td>metabase</td>\n",
       "      <td>metabase</td>\n",
       "      <td>35300</td>\n",
       "      <td>https://github.com/metabase/metabase</td>\n",
       "    </tr>\n",
       "    <tr>\n",
       "      <th>4</th>\n",
       "      <td>streamlit</td>\n",
       "      <td>streamlit</td>\n",
       "      <td>29200</td>\n",
       "      <td>https://github.com/streamlit/streamlit</td>\n",
       "    </tr>\n",
       "    <tr>\n",
       "      <th>5</th>\n",
       "      <td>AI-Expert-Roadmap</td>\n",
       "      <td>AMAI-GmbH</td>\n",
       "      <td>27600</td>\n",
       "      <td>https://github.com/AMAI-GmbH/AI-Expert-Roadmap</td>\n",
       "    </tr>\n",
       "    <tr>\n",
       "      <th>6</th>\n",
       "      <td>Data-Science-For-Beginners</td>\n",
       "      <td>microsoft</td>\n",
       "      <td>25200</td>\n",
       "      <td>https://github.com/microsoft/Data-Science-For-...</td>\n",
       "    </tr>\n",
       "    <tr>\n",
       "      <th>7</th>\n",
       "      <td>gradio</td>\n",
       "      <td>gradio-app</td>\n",
       "      <td>25100</td>\n",
       "      <td>https://github.com/gradio-app/gradio</td>\n",
       "    </tr>\n",
       "    <tr>\n",
       "      <th>8</th>\n",
       "      <td>CyberChef</td>\n",
       "      <td>gchq</td>\n",
       "      <td>23700</td>\n",
       "      <td>https://github.com/gchq/CyberChef</td>\n",
       "    </tr>\n",
       "    <tr>\n",
       "      <th>9</th>\n",
       "      <td>goaccess</td>\n",
       "      <td>allinurl</td>\n",
       "      <td>17000</td>\n",
       "      <td>https://github.com/allinurl/goaccess</td>\n",
       "    </tr>\n",
       "    <tr>\n",
       "      <th>10</th>\n",
       "      <td>best-of-ml-python</td>\n",
       "      <td>ml-tooling</td>\n",
       "      <td>14900</td>\n",
       "      <td>https://github.com/ml-tooling/best-of-ml-python</td>\n",
       "    </tr>\n",
       "    <tr>\n",
       "      <th>11</th>\n",
       "      <td>dataease</td>\n",
       "      <td>dataease</td>\n",
       "      <td>13800</td>\n",
       "      <td>https://github.com/dataease/dataease</td>\n",
       "    </tr>\n",
       "    <tr>\n",
       "      <th>12</th>\n",
       "      <td>airbyte</td>\n",
       "      <td>airbytehq</td>\n",
       "      <td>12600</td>\n",
       "      <td>https://github.com/airbytehq/airbyte</td>\n",
       "    </tr>\n",
       "    <tr>\n",
       "      <th>13</th>\n",
       "      <td>ydata-profiling</td>\n",
       "      <td>ydataai</td>\n",
       "      <td>11600</td>\n",
       "      <td>https://github.com/ydataai/ydata-profiling</td>\n",
       "    </tr>\n",
       "    <tr>\n",
       "      <th>14</th>\n",
       "      <td>OpenRefine</td>\n",
       "      <td>OpenRefine</td>\n",
       "      <td>10000</td>\n",
       "      <td>https://github.com/OpenRefine/OpenRefine</td>\n",
       "    </tr>\n",
       "    <tr>\n",
       "      <th>15</th>\n",
       "      <td>pandas_exercises</td>\n",
       "      <td>guipsamora</td>\n",
       "      <td>9600</td>\n",
       "      <td>https://github.com/guipsamora/pandas_exercises</td>\n",
       "    </tr>\n",
       "    <tr>\n",
       "      <th>16</th>\n",
       "      <td>pandas-ai</td>\n",
       "      <td>gventuri</td>\n",
       "      <td>9300</td>\n",
       "      <td>https://github.com/gventuri/pandas-ai</td>\n",
       "    </tr>\n",
       "    <tr>\n",
       "      <th>17</th>\n",
       "      <td>mlcourse.ai</td>\n",
       "      <td>Yorko</td>\n",
       "      <td>9200</td>\n",
       "      <td>https://github.com/Yorko/mlcourse.ai</td>\n",
       "    </tr>\n",
       "    <tr>\n",
       "      <th>18</th>\n",
       "      <td>statsmodels</td>\n",
       "      <td>statsmodels</td>\n",
       "      <td>9200</td>\n",
       "      <td>https://github.com/statsmodels/statsmodels</td>\n",
       "    </tr>\n",
       "    <tr>\n",
       "      <th>19</th>\n",
       "      <td>pygwalker</td>\n",
       "      <td>Kanaries</td>\n",
       "      <td>8300</td>\n",
       "      <td>https://github.com/Kanaries/pygwalker</td>\n",
       "    </tr>\n",
       "  </tbody>\n",
       "</table>\n",
       "</div>"
      ],
      "text/plain": [
       "               repository_name owner_username  stars  \\\n",
       "0                 scikit-learn   scikit-learn  56900   \n",
       "1                     superset         apache  55900   \n",
       "2                       pandas     pandas-dev  40700   \n",
       "3                     metabase       metabase  35300   \n",
       "4                    streamlit      streamlit  29200   \n",
       "5            AI-Expert-Roadmap      AMAI-GmbH  27600   \n",
       "6   Data-Science-For-Beginners      microsoft  25200   \n",
       "7                       gradio     gradio-app  25100   \n",
       "8                    CyberChef           gchq  23700   \n",
       "9                     goaccess       allinurl  17000   \n",
       "10           best-of-ml-python     ml-tooling  14900   \n",
       "11                    dataease       dataease  13800   \n",
       "12                     airbyte      airbytehq  12600   \n",
       "13             ydata-profiling        ydataai  11600   \n",
       "14                  OpenRefine     OpenRefine  10000   \n",
       "15            pandas_exercises     guipsamora   9600   \n",
       "16                   pandas-ai       gventuri   9300   \n",
       "17                 mlcourse.ai          Yorko   9200   \n",
       "18                 statsmodels    statsmodels   9200   \n",
       "19                   pygwalker       Kanaries   8300   \n",
       "\n",
       "                                       repository_url  \n",
       "0        https://github.com/scikit-learn/scikit-learn  \n",
       "1                  https://github.com/apache/superset  \n",
       "2                https://github.com/pandas-dev/pandas  \n",
       "3                https://github.com/metabase/metabase  \n",
       "4              https://github.com/streamlit/streamlit  \n",
       "5      https://github.com/AMAI-GmbH/AI-Expert-Roadmap  \n",
       "6   https://github.com/microsoft/Data-Science-For-...  \n",
       "7                https://github.com/gradio-app/gradio  \n",
       "8                   https://github.com/gchq/CyberChef  \n",
       "9                https://github.com/allinurl/goaccess  \n",
       "10    https://github.com/ml-tooling/best-of-ml-python  \n",
       "11               https://github.com/dataease/dataease  \n",
       "12               https://github.com/airbytehq/airbyte  \n",
       "13         https://github.com/ydataai/ydata-profiling  \n",
       "14           https://github.com/OpenRefine/OpenRefine  \n",
       "15     https://github.com/guipsamora/pandas_exercises  \n",
       "16              https://github.com/gventuri/pandas-ai  \n",
       "17               https://github.com/Yorko/mlcourse.ai  \n",
       "18         https://github.com/statsmodels/statsmodels  \n",
       "19              https://github.com/Kanaries/pygwalker  "
      ]
     },
     "execution_count": 111,
     "metadata": {},
     "output_type": "execute_result"
    }
   ],
   "source": [
    "pd.read_csv('data-analysis.csv')"
   ]
  },
  {
   "cell_type": "code",
   "execution_count": 112,
   "id": "42644f68",
   "metadata": {},
   "outputs": [
    {
     "name": "stdout",
     "output_type": "stream",
     "text": [
      "Top repositories for topic \"python\" written to file \"python.csv\"\n"
     ]
    },
    {
     "data": {
      "text/plain": [
       "'python.csv'"
      ]
     },
     "execution_count": 112,
     "metadata": {},
     "output_type": "execute_result"
    }
   ],
   "source": [
    "scrape_topic_repositories('python')"
   ]
  },
  {
   "cell_type": "markdown",
   "id": "6012db68",
   "metadata": {},
   "source": [
    "Top repositories for topic \"python\" written to file \"python.csv\"\n",
    "'python.csv'"
   ]
  },
  {
   "cell_type": "code",
   "execution_count": 113,
   "id": "5e05f799",
   "metadata": {},
   "outputs": [
    {
     "data": {
      "text/html": [
       "<div>\n",
       "<style scoped>\n",
       "    .dataframe tbody tr th:only-of-type {\n",
       "        vertical-align: middle;\n",
       "    }\n",
       "\n",
       "    .dataframe tbody tr th {\n",
       "        vertical-align: top;\n",
       "    }\n",
       "\n",
       "    .dataframe thead th {\n",
       "        text-align: right;\n",
       "    }\n",
       "</style>\n",
       "<table border=\"1\" class=\"dataframe\">\n",
       "  <thead>\n",
       "    <tr style=\"text-align: right;\">\n",
       "      <th></th>\n",
       "      <th>repository_name</th>\n",
       "      <th>owner_username</th>\n",
       "      <th>stars</th>\n",
       "      <th>repository_url</th>\n",
       "    </tr>\n",
       "  </thead>\n",
       "  <tbody>\n",
       "    <tr>\n",
       "      <th>0</th>\n",
       "      <td>system-design-primer</td>\n",
       "      <td>donnemartin</td>\n",
       "      <td>238000</td>\n",
       "      <td>https://github.com/donnemartin/system-design-p...</td>\n",
       "    </tr>\n",
       "    <tr>\n",
       "      <th>1</th>\n",
       "      <td>awesome-python</td>\n",
       "      <td>vinta</td>\n",
       "      <td>192000</td>\n",
       "      <td>https://github.com/vinta/awesome-python</td>\n",
       "    </tr>\n",
       "    <tr>\n",
       "      <th>2</th>\n",
       "      <td>tensorflow</td>\n",
       "      <td>tensorflow</td>\n",
       "      <td>180000</td>\n",
       "      <td>https://github.com/tensorflow/tensorflow</td>\n",
       "    </tr>\n",
       "    <tr>\n",
       "      <th>3</th>\n",
       "      <td>Python</td>\n",
       "      <td>TheAlgorithms</td>\n",
       "      <td>174000</td>\n",
       "      <td>https://github.com/TheAlgorithms/Python</td>\n",
       "    </tr>\n",
       "    <tr>\n",
       "      <th>4</th>\n",
       "      <td>CS-Notes</td>\n",
       "      <td>CyC2018</td>\n",
       "      <td>169000</td>\n",
       "      <td>https://github.com/CyC2018/CS-Notes</td>\n",
       "    </tr>\n",
       "    <tr>\n",
       "      <th>5</th>\n",
       "      <td>AutoGPT</td>\n",
       "      <td>Significant-Gravitas</td>\n",
       "      <td>156000</td>\n",
       "      <td>https://github.com/Significant-Gravitas/AutoGPT</td>\n",
       "    </tr>\n",
       "    <tr>\n",
       "      <th>6</th>\n",
       "      <td>project-based-learning</td>\n",
       "      <td>practical-tutorials</td>\n",
       "      <td>144000</td>\n",
       "      <td>https://github.com/practical-tutorials/project...</td>\n",
       "    </tr>\n",
       "    <tr>\n",
       "      <th>7</th>\n",
       "      <td>transformers</td>\n",
       "      <td>huggingface</td>\n",
       "      <td>118000</td>\n",
       "      <td>https://github.com/huggingface/transformers</td>\n",
       "    </tr>\n",
       "    <tr>\n",
       "      <th>8</th>\n",
       "      <td>30-seconds-of-code</td>\n",
       "      <td>Chalarangelo</td>\n",
       "      <td>117000</td>\n",
       "      <td>https://github.com/Chalarangelo/30-seconds-of-...</td>\n",
       "    </tr>\n",
       "    <tr>\n",
       "      <th>9</th>\n",
       "      <td>free-programming-books-zh_CN</td>\n",
       "      <td>justjavac</td>\n",
       "      <td>107000</td>\n",
       "      <td>https://github.com/justjavac/free-programming-...</td>\n",
       "    </tr>\n",
       "    <tr>\n",
       "      <th>10</th>\n",
       "      <td>thefuck</td>\n",
       "      <td>nvbn</td>\n",
       "      <td>80700</td>\n",
       "      <td>https://github.com/nvbn/thefuck</td>\n",
       "    </tr>\n",
       "    <tr>\n",
       "      <th>11</th>\n",
       "      <td>HelloGitHub</td>\n",
       "      <td>521xueweihan</td>\n",
       "      <td>80300</td>\n",
       "      <td>https://github.com/521xueweihan/HelloGitHub</td>\n",
       "    </tr>\n",
       "    <tr>\n",
       "      <th>12</th>\n",
       "      <td>django</td>\n",
       "      <td>django</td>\n",
       "      <td>74800</td>\n",
       "      <td>https://github.com/django/django</td>\n",
       "    </tr>\n",
       "    <tr>\n",
       "      <th>13</th>\n",
       "      <td>pytorch</td>\n",
       "      <td>pytorch</td>\n",
       "      <td>73900</td>\n",
       "      <td>https://github.com/pytorch/pytorch</td>\n",
       "    </tr>\n",
       "    <tr>\n",
       "      <th>14</th>\n",
       "      <td>fastapi</td>\n",
       "      <td>tiangolo</td>\n",
       "      <td>66400</td>\n",
       "      <td>https://github.com/tiangolo/fastapi</td>\n",
       "    </tr>\n",
       "    <tr>\n",
       "      <th>15</th>\n",
       "      <td>flask</td>\n",
       "      <td>pallets</td>\n",
       "      <td>65300</td>\n",
       "      <td>https://github.com/pallets/flask</td>\n",
       "    </tr>\n",
       "    <tr>\n",
       "      <th>16</th>\n",
       "      <td>core</td>\n",
       "      <td>home-assistant</td>\n",
       "      <td>65300</td>\n",
       "      <td>https://github.com/home-assistant/core</td>\n",
       "    </tr>\n",
       "    <tr>\n",
       "      <th>17</th>\n",
       "      <td>ML-For-Beginners</td>\n",
       "      <td>microsoft</td>\n",
       "      <td>63400</td>\n",
       "      <td>https://github.com/microsoft/ML-For-Beginners</td>\n",
       "    </tr>\n",
       "    <tr>\n",
       "      <th>18</th>\n",
       "      <td>yt-dlp</td>\n",
       "      <td>yt-dlp</td>\n",
       "      <td>62800</td>\n",
       "      <td>https://github.com/yt-dlp/yt-dlp</td>\n",
       "    </tr>\n",
       "    <tr>\n",
       "      <th>19</th>\n",
       "      <td>devops-exercises</td>\n",
       "      <td>bregman-arie</td>\n",
       "      <td>60100</td>\n",
       "      <td>https://github.com/bregman-arie/devops-exercises</td>\n",
       "    </tr>\n",
       "  </tbody>\n",
       "</table>\n",
       "</div>"
      ],
      "text/plain": [
       "                 repository_name        owner_username   stars  \\\n",
       "0           system-design-primer           donnemartin  238000   \n",
       "1                 awesome-python                 vinta  192000   \n",
       "2                     tensorflow            tensorflow  180000   \n",
       "3                         Python         TheAlgorithms  174000   \n",
       "4                       CS-Notes               CyC2018  169000   \n",
       "5                        AutoGPT  Significant-Gravitas  156000   \n",
       "6         project-based-learning   practical-tutorials  144000   \n",
       "7                   transformers           huggingface  118000   \n",
       "8             30-seconds-of-code          Chalarangelo  117000   \n",
       "9   free-programming-books-zh_CN             justjavac  107000   \n",
       "10                       thefuck                  nvbn   80700   \n",
       "11                   HelloGitHub          521xueweihan   80300   \n",
       "12                        django                django   74800   \n",
       "13                       pytorch               pytorch   73900   \n",
       "14                       fastapi              tiangolo   66400   \n",
       "15                         flask               pallets   65300   \n",
       "16                          core        home-assistant   65300   \n",
       "17              ML-For-Beginners             microsoft   63400   \n",
       "18                        yt-dlp                yt-dlp   62800   \n",
       "19              devops-exercises          bregman-arie   60100   \n",
       "\n",
       "                                       repository_url  \n",
       "0   https://github.com/donnemartin/system-design-p...  \n",
       "1             https://github.com/vinta/awesome-python  \n",
       "2            https://github.com/tensorflow/tensorflow  \n",
       "3             https://github.com/TheAlgorithms/Python  \n",
       "4                 https://github.com/CyC2018/CS-Notes  \n",
       "5     https://github.com/Significant-Gravitas/AutoGPT  \n",
       "6   https://github.com/practical-tutorials/project...  \n",
       "7         https://github.com/huggingface/transformers  \n",
       "8   https://github.com/Chalarangelo/30-seconds-of-...  \n",
       "9   https://github.com/justjavac/free-programming-...  \n",
       "10                    https://github.com/nvbn/thefuck  \n",
       "11        https://github.com/521xueweihan/HelloGitHub  \n",
       "12                   https://github.com/django/django  \n",
       "13                 https://github.com/pytorch/pytorch  \n",
       "14                https://github.com/tiangolo/fastapi  \n",
       "15                   https://github.com/pallets/flask  \n",
       "16             https://github.com/home-assistant/core  \n",
       "17      https://github.com/microsoft/ML-For-Beginners  \n",
       "18                   https://github.com/yt-dlp/yt-dlp  \n",
       "19   https://github.com/bregman-arie/devops-exercises  "
      ]
     },
     "execution_count": 113,
     "metadata": {},
     "output_type": "execute_result"
    }
   ],
   "source": [
    "pd.read_csv('python.csv')"
   ]
  },
  {
   "cell_type": "code",
   "execution_count": null,
   "id": "e5473379",
   "metadata": {},
   "outputs": [],
   "source": []
  },
  {
   "cell_type": "markdown",
   "id": "64068244",
   "metadata": {},
   "source": [
    "### Using a REST API to retrieve data as JSON"
   ]
  },
  {
   "cell_type": "markdown",
   "id": "83a41546",
   "metadata": {},
   "source": [
    "Not all URLs point to an HTML page. Consider this URL for example: https://api.github.com/repos/octocat/hello-world . It points to a JSON document, which has a structure like this:\n",
    "\n",
    "{\n",
    "  \"name\": \"Hello-World\",\n",
    "  \"full_name\": \"octocat/Hello-World\",\n",
    "  \"private\": false,\n",
    "  \"owner\": {\n",
    "    \"login\": \"octocat\",\n",
    "    \"id\": 583231,\n",
    "  },\n",
    "  \"html_url\": \"https://github.com/octocat/Hello-World\",\n",
    "}\n",
    "It's quite similar to a Python dictionary. In fact, you can use the json module from python to convert a JSON document into a Python dictionary."
   ]
  },
  {
   "cell_type": "code",
   "execution_count": 114,
   "id": "76f4d970",
   "metadata": {},
   "outputs": [],
   "source": [
    "response = requests.get('https://api.github.com/repos/octocat/hello-world')"
   ]
  },
  {
   "cell_type": "code",
   "execution_count": 115,
   "id": "5eb176c2",
   "metadata": {},
   "outputs": [
    {
     "data": {
      "text/plain": [
       "{'id': 1296269,\n",
       " 'node_id': 'MDEwOlJlcG9zaXRvcnkxMjk2MjY5',\n",
       " 'name': 'Hello-World',\n",
       " 'full_name': 'octocat/Hello-World',\n",
       " 'private': False,\n",
       " 'owner': {'login': 'octocat',\n",
       "  'id': 583231,\n",
       "  'node_id': 'MDQ6VXNlcjU4MzIzMQ==',\n",
       "  'avatar_url': 'https://avatars.githubusercontent.com/u/583231?v=4',\n",
       "  'gravatar_id': '',\n",
       "  'url': 'https://api.github.com/users/octocat',\n",
       "  'html_url': 'https://github.com/octocat',\n",
       "  'followers_url': 'https://api.github.com/users/octocat/followers',\n",
       "  'following_url': 'https://api.github.com/users/octocat/following{/other_user}',\n",
       "  'gists_url': 'https://api.github.com/users/octocat/gists{/gist_id}',\n",
       "  'starred_url': 'https://api.github.com/users/octocat/starred{/owner}{/repo}',\n",
       "  'subscriptions_url': 'https://api.github.com/users/octocat/subscriptions',\n",
       "  'organizations_url': 'https://api.github.com/users/octocat/orgs',\n",
       "  'repos_url': 'https://api.github.com/users/octocat/repos',\n",
       "  'events_url': 'https://api.github.com/users/octocat/events{/privacy}',\n",
       "  'received_events_url': 'https://api.github.com/users/octocat/received_events',\n",
       "  'type': 'User',\n",
       "  'site_admin': False},\n",
       " 'html_url': 'https://github.com/octocat/Hello-World',\n",
       " 'description': 'My first repository on GitHub!',\n",
       " 'fork': False,\n",
       " 'url': 'https://api.github.com/repos/octocat/Hello-World',\n",
       " 'forks_url': 'https://api.github.com/repos/octocat/Hello-World/forks',\n",
       " 'keys_url': 'https://api.github.com/repos/octocat/Hello-World/keys{/key_id}',\n",
       " 'collaborators_url': 'https://api.github.com/repos/octocat/Hello-World/collaborators{/collaborator}',\n",
       " 'teams_url': 'https://api.github.com/repos/octocat/Hello-World/teams',\n",
       " 'hooks_url': 'https://api.github.com/repos/octocat/Hello-World/hooks',\n",
       " 'issue_events_url': 'https://api.github.com/repos/octocat/Hello-World/issues/events{/number}',\n",
       " 'events_url': 'https://api.github.com/repos/octocat/Hello-World/events',\n",
       " 'assignees_url': 'https://api.github.com/repos/octocat/Hello-World/assignees{/user}',\n",
       " 'branches_url': 'https://api.github.com/repos/octocat/Hello-World/branches{/branch}',\n",
       " 'tags_url': 'https://api.github.com/repos/octocat/Hello-World/tags',\n",
       " 'blobs_url': 'https://api.github.com/repos/octocat/Hello-World/git/blobs{/sha}',\n",
       " 'git_tags_url': 'https://api.github.com/repos/octocat/Hello-World/git/tags{/sha}',\n",
       " 'git_refs_url': 'https://api.github.com/repos/octocat/Hello-World/git/refs{/sha}',\n",
       " 'trees_url': 'https://api.github.com/repos/octocat/Hello-World/git/trees{/sha}',\n",
       " 'statuses_url': 'https://api.github.com/repos/octocat/Hello-World/statuses/{sha}',\n",
       " 'languages_url': 'https://api.github.com/repos/octocat/Hello-World/languages',\n",
       " 'stargazers_url': 'https://api.github.com/repos/octocat/Hello-World/stargazers',\n",
       " 'contributors_url': 'https://api.github.com/repos/octocat/Hello-World/contributors',\n",
       " 'subscribers_url': 'https://api.github.com/repos/octocat/Hello-World/subscribers',\n",
       " 'subscription_url': 'https://api.github.com/repos/octocat/Hello-World/subscription',\n",
       " 'commits_url': 'https://api.github.com/repos/octocat/Hello-World/commits{/sha}',\n",
       " 'git_commits_url': 'https://api.github.com/repos/octocat/Hello-World/git/commits{/sha}',\n",
       " 'comments_url': 'https://api.github.com/repos/octocat/Hello-World/comments{/number}',\n",
       " 'issue_comment_url': 'https://api.github.com/repos/octocat/Hello-World/issues/comments{/number}',\n",
       " 'contents_url': 'https://api.github.com/repos/octocat/Hello-World/contents/{+path}',\n",
       " 'compare_url': 'https://api.github.com/repos/octocat/Hello-World/compare/{base}...{head}',\n",
       " 'merges_url': 'https://api.github.com/repos/octocat/Hello-World/merges',\n",
       " 'archive_url': 'https://api.github.com/repos/octocat/Hello-World/{archive_format}{/ref}',\n",
       " 'downloads_url': 'https://api.github.com/repos/octocat/Hello-World/downloads',\n",
       " 'issues_url': 'https://api.github.com/repos/octocat/Hello-World/issues{/number}',\n",
       " 'pulls_url': 'https://api.github.com/repos/octocat/Hello-World/pulls{/number}',\n",
       " 'milestones_url': 'https://api.github.com/repos/octocat/Hello-World/milestones{/number}',\n",
       " 'notifications_url': 'https://api.github.com/repos/octocat/Hello-World/notifications{?since,all,participating}',\n",
       " 'labels_url': 'https://api.github.com/repos/octocat/Hello-World/labels{/name}',\n",
       " 'releases_url': 'https://api.github.com/repos/octocat/Hello-World/releases{/id}',\n",
       " 'deployments_url': 'https://api.github.com/repos/octocat/Hello-World/deployments',\n",
       " 'created_at': '2011-01-26T19:01:12Z',\n",
       " 'updated_at': '2023-12-27T19:35:35Z',\n",
       " 'pushed_at': '2023-12-12T12:17:10Z',\n",
       " 'git_url': 'git://github.com/octocat/Hello-World.git',\n",
       " 'ssh_url': 'git@github.com:octocat/Hello-World.git',\n",
       " 'clone_url': 'https://github.com/octocat/Hello-World.git',\n",
       " 'svn_url': 'https://github.com/octocat/Hello-World',\n",
       " 'homepage': '',\n",
       " 'size': 1,\n",
       " 'stargazers_count': 2398,\n",
       " 'watchers_count': 2398,\n",
       " 'language': None,\n",
       " 'has_issues': True,\n",
       " 'has_projects': True,\n",
       " 'has_downloads': True,\n",
       " 'has_wiki': True,\n",
       " 'has_pages': False,\n",
       " 'has_discussions': False,\n",
       " 'forks_count': 2196,\n",
       " 'mirror_url': None,\n",
       " 'archived': False,\n",
       " 'disabled': False,\n",
       " 'open_issues_count': 1191,\n",
       " 'license': None,\n",
       " 'allow_forking': True,\n",
       " 'is_template': False,\n",
       " 'web_commit_signoff_required': False,\n",
       " 'topics': [],\n",
       " 'visibility': 'public',\n",
       " 'forks': 2196,\n",
       " 'open_issues': 1191,\n",
       " 'watchers': 2398,\n",
       " 'default_branch': 'master',\n",
       " 'temp_clone_token': None,\n",
       " 'network_count': 2196,\n",
       " 'subscribers_count': 1730}"
      ]
     },
     "execution_count": 115,
     "metadata": {},
     "output_type": "execute_result"
    }
   ],
   "source": [
    "import json\n",
    "\n",
    "data_dict = json.loads(response.text)\n",
    "data_dict"
   ]
  },
  {
   "cell_type": "markdown",
   "id": "37f5144c",
   "metadata": {},
   "source": [
    "Unlike HTML, it's really easy to work with JSON using Python, simply fetch the contents of the URL and convert it to a dictionary. Such URLs are often called REST APIs or REST API endpoints. Many websites offer well-documented REST APIs to access data from the site in JSON format:"
   ]
  },
  {
   "cell_type": "markdown",
   "id": "cbb59510",
   "metadata": {},
   "source": [
    "Using an API is the officially supported way of extracting information from a website. To use an API, you will often need to register as a developer on the platform and generate an API key, which you'll need to send with every request to authenticate yourself.\n",
    "\n",
    "Since GitHub offers a public API, we can use it without any restrictions to fetch information about public repositories."
   ]
  },
  {
   "cell_type": "markdown",
   "id": "a61fe152",
   "metadata": {},
   "source": [
    "QUESTION: Write a function get_repo_details to find the following information about a repository: description, watcher count, fork count, open issues count, created at time and updated at time."
   ]
  },
  {
   "cell_type": "code",
   "execution_count": 116,
   "id": "146dab15",
   "metadata": {},
   "outputs": [],
   "source": [
    "def get_repo_details(username, repo_name):\n",
    "    print('Fetching information for {}/{}'.format(username, repo_name))\n",
    "    repo_details_url = \"https://api.github.com/repos/\" + username + \"/\" + repo_name\n",
    "    response = requests.get(repo_details_url)\n",
    "    if not response.ok:\n",
    "        print(\"Failed to fetch!\")\n",
    "        return {}\n",
    "    repo_data = json.loads(response.text)\n",
    "    return {\n",
    "        'description': repo_data['description'],\n",
    "        'watchers': repo_data['watchers_count'],\n",
    "        'open_issues': repo_data['open_issues_count'],\n",
    "        'created_at': repo_data['created_at'],\n",
    "        'updated_at': repo_data['updated_at']\n",
    "    }"
   ]
  },
  {
   "cell_type": "code",
   "execution_count": 117,
   "id": "d0b10adf",
   "metadata": {},
   "outputs": [
    {
     "name": "stdout",
     "output_type": "stream",
     "text": [
      "Fetching information for octocat/hello-world\n"
     ]
    },
    {
     "data": {
      "text/plain": [
       "{'description': 'My first repository on GitHub!',\n",
       " 'watchers': 2398,\n",
       " 'open_issues': 1191,\n",
       " 'created_at': '2011-01-26T19:01:12Z',\n",
       " 'updated_at': '2023-12-27T19:35:35Z'}"
      ]
     },
     "execution_count": 117,
     "metadata": {},
     "output_type": "execute_result"
    }
   ],
   "source": [
    "get_repo_details('octocat', 'hello-world')"
   ]
  },
  {
   "cell_type": "code",
   "execution_count": 118,
   "id": "53080fcc",
   "metadata": {},
   "outputs": [
    {
     "name": "stdout",
     "output_type": "stream",
     "text": [
      "Fetching information for tensorflow/tensorflow\n"
     ]
    },
    {
     "data": {
      "text/plain": [
       "{'description': 'An Open Source Machine Learning Framework for Everyone',\n",
       " 'watchers': 179673,\n",
       " 'open_issues': 2088,\n",
       " 'created_at': '2015-11-07T01:19:20Z',\n",
       " 'updated_at': '2023-12-28T05:08:55Z'}"
      ]
     },
     "execution_count": 118,
     "metadata": {},
     "output_type": "execute_result"
    }
   ],
   "source": [
    "get_repo_details('tensorflow', 'tensorflow')"
   ]
  },
  {
   "cell_type": "code",
   "execution_count": null,
   "id": "877ef89d",
   "metadata": {},
   "outputs": [],
   "source": []
  }
 ],
 "metadata": {
  "kernelspec": {
   "display_name": "Python 3 (ipykernel)",
   "language": "python",
   "name": "python3"
  },
  "language_info": {
   "codemirror_mode": {
    "name": "ipython",
    "version": 3
   },
   "file_extension": ".py",
   "mimetype": "text/x-python",
   "name": "python",
   "nbconvert_exporter": "python",
   "pygments_lexer": "ipython3",
   "version": "3.11.5"
  }
 },
 "nbformat": 4,
 "nbformat_minor": 5
}
